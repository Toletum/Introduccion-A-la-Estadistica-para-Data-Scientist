{
 "cells": [
  {
   "cell_type": "code",
   "execution_count": 21,
   "metadata": {
    "collapsed": false
   },
   "outputs": [
    {
     "name": "stderr",
     "output_type": "stream",
     "text": [
      "/usr/local/lib/python2.7/dist-packages/matplotlib/font_manager.py:273: UserWarning: Matplotlib is building the font cache using fc-list. This may take a moment.\n",
      "  warnings.warn('Matplotlib is building the font cache using fc-list. This may take a moment.')\n"
     ]
    }
   ],
   "source": [
    "import numpy as np\n",
    "import matplotlib.pyplot as plt\n",
    "%matplotlib inline\n",
    "from scipy import stats\n",
    "import math"
   ]
  },
  {
   "cell_type": "markdown",
   "metadata": {},
   "source": [
    "# Inferencia\n",
    "\n",
    "#https://en.wikipedia.org/wiki/Inference\n",
    "\n",
    "La inferencia estadística se divide en tras grandes partes,\n",
    "dependiendo de la naturaleza del problema que queremos resolver:\n",
    "\n",
    "* Estimación puntual. \n",
    "* Estimación por intervalos de confianza. \n",
    "* Contraste de hipótesis paramétrica.\n"
   ]
  },
  {
   "cell_type": "markdown",
   "metadata": {},
   "source": [
    "## Estimacion puntual\n",
    "\n",
    "Objetivo de la estimación puntual: en función del modelo que estemos aceptando y en función de una muestra concreta $(x_1,x_2, \\cdot \\cdot \\cdot, x_n)$, cual es el valor $\\theta \\in\n",
    "\\Theta $ que nos parece más plausible.\n",
    "\n",
    "### Construcción de estimadores por el método de los momentos. \n",
    "\n",
    "Sea $X$ una población con función de masa\n",
    "$P_\\theta$, o de densidad $f_\\theta$, $\\theta=(\\theta_1, \\theta_2,\n",
    "\\cdot \\cdot \\cdot , \\theta_k) \\in \\Theta$, y $(X_1, X_2, \\cdot\n",
    "\\cdot \\cdot, X_n)$ una muestra aleatoria simple. \n",
    "\n",
    "El estimador de $\\theta$ por el método de los momentos es el formado por los\n",
    "valores $(\\widetilde{\\theta}_1, \\widetilde{\\theta}_2, \\cdot \\cdot\n",
    "\\cdot , \\widetilde{\\theta}_k) $ que se obtiene al resolver en\n",
    "$\\theta_1, \\theta_2, \\cdot \\cdot \\cdot, \\theta_k$ el sistema\n",
    "$$ \\left\\{ \\begin{array}{llll} E_\\theta[X]=\\frac{1}{n}\\sum_{i=1}^n\n",
    "X_i \\\\ E_\\theta[X^2]=\\frac{1}{n}\\sum_{i=1}^n X_i^2 \\\\ \\cdot \\cdot\n",
    "\\cdot \\cdot \\cdot \\\\ E_\\theta[X^k]=\\frac{1}{n}\\sum_{i=1}^n X_i^k\n",
    "\\end{array} \\right. $$\n"
   ]
  },
  {
   "cell_type": "markdown",
   "metadata": {},
   "source": [
    "#### Ejercicio\n",
    "Una población $X$ sigue una exponencial\n",
    "$Exp(\\lambda)$ de parámetro desconocido. Calcular el estimador\n",
    "de $\\theta=\\lambda$ por el método de los momentos.\n",
    "\n",
    "$X$ es continua con función de densidad \n",
    "$$f_\\lambda(x)=\\left\\{\n",
    "\\begin{array}{ll} 0 \\hspace{1cm} \\\\ \\lambda e^{- \\lambda x}\n",
    "\\hspace{0.5cm} \\end{array} \\right. $$"
   ]
  },
  {
   "cell_type": "code",
   "execution_count": 2,
   "metadata": {
    "collapsed": true
   },
   "outputs": [],
   "source": [
    "from sympy import *\n",
    "init_printing()"
   ]
  },
  {
   "cell_type": "code",
   "execution_count": 10,
   "metadata": {
    "collapsed": true
   },
   "outputs": [],
   "source": [
    "l = Symbol('lambda',positive=True,nonzero=True)\n",
    "x = Symbol('x')"
   ]
  },
  {
   "cell_type": "code",
   "execution_count": 11,
   "metadata": {
    "collapsed": false
   },
   "outputs": [
    {
     "data": {
      "image/png": "[encoded data removed]",
      "text/latex": [
       "$$\\frac{1}{\\lambda} \\left(- \\lambda x - 1\\right) e^{- \\lambda x}$$"
      ],
      "text/plain": [
       "            -λ⋅x\n",
       "(-λ⋅x - 1)⋅ℯ    \n",
       "────────────────\n",
       "       λ        "
      ]
     },
     "execution_count": 11,
     "metadata": {},
     "output_type": "execute_result"
    }
   ],
   "source": [
    "#La esperanza de f es igual a la integral de xf(x) en su conjunto\n",
    "E_formula=integrate(x*l*exp(-l*x),x)\n",
    "E_formula"
   ]
  },
  {
   "cell_type": "code",
   "execution_count": 14,
   "metadata": {
    "collapsed": false
   },
   "outputs": [
    {
     "data": {
      "image/png": "[encoded data removed]",
      "text/latex": [
       "$$\\frac{1}{\\lambda}$$"
      ],
      "text/plain": [
       "1\n",
       "─\n",
       "λ"
      ]
     },
     "execution_count": 14,
     "metadata": {},
     "output_type": "execute_result"
    }
   ],
   "source": [
    "E=limit(E_formula,x,oo)-limit(E_formula,x,0)\n",
    "E"
   ]
  },
  {
   "cell_type": "markdown",
   "metadata": {},
   "source": [
    "#### Ejercicio\n",
    "\n",
    "Sea $(X_1,X_2, \\cdot \\cdot\n",
    "\\cdot,X_n)$ una muestra aleatoria de $$f_\\theta (x)=\\left\\{\n",
    "\\begin{array}{ll} 0 \\hspace{1.5cm} x\\leq 0 \\\\ e^{-x+\\theta}\n",
    "\\hspace{0.5cm} x > 0 \\end{array} \\right. \\hspace{1cm} \\theta\n",
    "\\in \\Theta = \\mathbb{R}.$$\n",
    "\n",
    "* Hallar el estimador por el método de los momentos de $\\theta$. \n",
    "* Estudiar si el estimador encontrado en el apartadoanterior es insesgado para estimar el parámetro $\\theta$.\n",
    "\n"
   ]
  },
  {
   "cell_type": "code",
   "execution_count": 16,
   "metadata": {
    "collapsed": true
   },
   "outputs": [],
   "source": [
    "t = Symbol('theta')\n",
    "x = Symbol('x')"
   ]
  },
  {
   "cell_type": "code",
   "execution_count": 17,
   "metadata": {
    "collapsed": false,
    "scrolled": true
   },
   "outputs": [
    {
     "data": {
      "image/png": "[encoded data removed]",
      "text/latex": [
       "$$\\left(- x - 1\\right) e^{\\theta - x}$$"
      ],
      "text/plain": [
       "          θ - x\n",
       "(-x - 1)⋅ℯ     "
      ]
     },
     "execution_count": 17,
     "metadata": {},
     "output_type": "execute_result"
    }
   ],
   "source": [
    "#La esperanza de f es igual a la integral de xf(x) en su conjunto\n",
    "E_formula=integrate(x*exp(-x+t),x)\n",
    "E_formula"
   ]
  },
  {
   "cell_type": "code",
   "execution_count": 18,
   "metadata": {
    "collapsed": false
   },
   "outputs": [
    {
     "data": {
      "image/png": "[encoded data removed]",
      "text/latex": [
       "$$e^{\\theta}$$"
      ],
      "text/plain": [
       " θ\n",
       "ℯ "
      ]
     },
     "execution_count": 18,
     "metadata": {},
     "output_type": "execute_result"
    }
   ],
   "source": [
    "E=limit(E_formula,x,oo)-limit(E_formula,x,0)\n",
    "E"
   ]
  },
  {
   "cell_type": "markdown",
   "metadata": {},
   "source": [
    "### Construcción de estimadores por el método de máxima verosimilitud.\n",
    "\n",
    " Sea $X$ una población con función de masa\n",
    "$P_\\theta$, o de densidad $f_\\theta$, $\\theta=(\\theta_1, \\theta_2,\n",
    "\\cdot \\cdot \\cdot , \\theta_k) \\in \\Theta$, y $(X_1, X_2, \\cdot\n",
    "\\cdot \\cdot, X_n)$ una muestra aleatoria simple. El estimador de\n",
    "máxima verosimilitud de $\\theta$ es el formado por los valores\n",
    "$(\\widehat{\\theta}_1,\\widehat{\\theta}_2, \\cdot \\cdot \\cdot\n",
    ",\\widehat{\\theta}_k)$ que maximiza lo que llamamos función de\n",
    "verosimilitud de la muestra $(x_1,x_2, \\cdot \\cdot \\cdot ,x_n)$\n",
    "obtenida\n",
    "\n",
    "$$L(\\theta)=L(\\theta;x_1,x_2, \\cdot \\cdot \\cdot, x_n)=\\left\\{\n",
    "\\begin{array}{ll} P_\\theta (x_1) \\cdot P_\\theta (x_2) \\cdot \\cdot\n",
    "\\cdot P_\\theta (x_n) \\hspace{0.7cm} \\textrm{discreta} \\\\ f_\\theta\n",
    "(x_1) \\cdot f_\\theta (x_2) \\cdot \\cdot \\cdot f_\\theta (x_n)\n",
    "\\hspace{0.7cm} \\textrm{continua} \\end{array} \\right. $$\n"
   ]
  },
  {
   "cell_type": "markdown",
   "metadata": {},
   "source": [
    "#### Ejercicio \n",
    "\n",
    "Un una gran piscifactoría hay una proporción desconocida de  peces de una especia A.\n",
    "  Para obtener información sobre esa proporción, vamos a ir sacando peces al azar.\n",
    "\n",
    "* Si la proporción de peces de la especie A es $p$, ¿cuál es la probabilidad de que el primer pez de la especie A sea el décimo que extraemos? \n",
    "* Tres personas realizan, independientemente unas de otras, el proceso de sacar peces al azar hasta encontrarse con el primero del tipo A:\n",
    "\n",
    "    * La primera persona obtiene el primer pez tipo A en la décima exacción. \n",
    "    * La segunda persona obtiene el primer pez tipo A en la decimoquinta extracción. \n",
    "    * La tercera persona obtiene el primer pez tipo A en la decimoctava extracción.\n",
    "\n",
    "Escribir la función de verosimilitud y obtener la estimación de máxima verosimilitud de $p$.\n"
   ]
  },
  {
   "cell_type": "code",
   "execution_count": 23,
   "metadata": {
    "collapsed": true
   },
   "outputs": [],
   "source": [
    "from sympy import *\n",
    "init_printing()"
   ]
  },
  {
   "cell_type": "code",
   "execution_count": 24,
   "metadata": {
    "collapsed": true
   },
   "outputs": [],
   "source": [
    "p = Symbol('p')"
   ]
  },
  {
   "cell_type": "code",
   "execution_count": 25,
   "metadata": {
    "collapsed": false
   },
   "outputs": [
    {
     "data": {
      "image/png": "[encoded data removed]",
      "text/latex": [
       "$$p^{3} \\left(- p + 1\\right)^{40}$$"
      ],
      "text/plain": [
       " 3         40\n",
       "p ⋅(-p + 1)  "
      ]
     },
     "execution_count": 25,
     "metadata": {},
     "output_type": "execute_result"
    }
   ],
   "source": [
    "P = (1-p)**9 * p  * (1-p)**14 * p * (1-p)**17 * p\n",
    "P"
   ]
  },
  {
   "cell_type": "code",
   "execution_count": 28,
   "metadata": {
    "collapsed": false
   },
   "outputs": [
    {
     "data": {
      "image/png": "[encoded data removed]",
      "text/latex": [
       "$$- 40 p^{3} \\left(- p + 1\\right)^{39} + 3 p^{2} \\left(- p + 1\\right)^{40}$$"
      ],
      "text/plain": [
       "      3         39      2         40\n",
       "- 40⋅p ⋅(-p + 1)   + 3⋅p ⋅(-p + 1)  "
      ]
     },
     "execution_count": 28,
     "metadata": {},
     "output_type": "execute_result"
    }
   ],
   "source": [
    "#El maximo se encuentra en el valor de p que maximiza P y por tanto anula la derivada de P.\n",
    "diff(P,p)"
   ]
  },
  {
   "cell_type": "code",
   "execution_count": 29,
   "metadata": {
    "collapsed": false
   },
   "outputs": [
    {
     "data": {
      "image/png": "[encoded data removed]",
      "text/latex": [
       "$$\\left [ 0, \\quad \\frac{3}{43}, \\quad 1\\right ]$$"
      ],
      "text/plain": [
       "[0, 3/43, 1]"
      ]
     },
     "execution_count": 29,
     "metadata": {},
     "output_type": "execute_result"
    }
   ],
   "source": [
    "solve(diff(P,p),p)"
   ]
  },
  {
   "cell_type": "markdown",
   "metadata": {},
   "source": [
    "#### Ejercicio\n",
    "\n",
    "La duración en minutos de un determinado viaje\n",
    "es una variable aleatoria con distribución normal de media\n",
    "desconocida y desviación típica igual a $3$. En una muestra\n",
    "aleatoria de diez realizaciones del viaje en cuestión se\n",
    "obtuvieron los siguientes tiempos\n",
    "$$x_1=10,1 \\;\\; x_2=6,5 \\;\\; x_3=5,5 \\;\\; x_4=7,9 \\;\\; x_5=8,2\n",
    "\\;\\; x_6=6,5$$ $$  x_7=7,0\\;\\; x_8=8,1 \\;\\; x_9=6,9 \\;\\\n",
    "x_{10}=7,7.$$ Se pide:\n",
    "\n",
    "* Estimar por máxima verosimilitud la duración media del viaje.  \n",
    "* Calcular la probabilidad de que, en valor absoluto, la diferencia entre la estimación media estimada y la real sea menor que un minuto.\n"
   ]
  },
  {
   "cell_type": "code",
   "execution_count": 33,
   "metadata": {
    "collapsed": true
   },
   "outputs": [],
   "source": [
    "from scipy import stats"
   ]
  },
  {
   "cell_type": "code",
   "execution_count": 34,
   "metadata": {
    "collapsed": true
   },
   "outputs": [],
   "source": [
    "data = [10.1,6.5,5.5,7.9,8.2,6.5,10.1,6.5,5.5,7.9,8.2,6.5,7.0,8.1,6.9,7.7]"
   ]
  },
  {
   "cell_type": "code",
   "execution_count": 35,
   "metadata": {
    "collapsed": false
   },
   "outputs": [
    {
     "data": {
      "image/png": "[encoded data removed]",
      "text/latex": [
       "$$\\left ( 7.44375, \\quad 1.31765357264\\right )$$"
      ],
      "text/plain": [
       "(7.44375, 1.31765357264)"
      ]
     },
     "execution_count": 35,
     "metadata": {},
     "output_type": "execute_result"
    }
   ],
   "source": [
    "#stats.norm.fit haya los parametros que maximicen la funcion de verosimilitud\n",
    "values = stats.norm.fit([10.1,6.5,5.5,7.9,8.2,6.5,10.1,6.5,5.5,7.9,8.2,6.5,7.0,8.1,6.9,7.7])\n",
    "values"
   ]
  },
  {
   "cell_type": "code",
   "execution_count": 36,
   "metadata": {
    "collapsed": true
   },
   "outputs": [],
   "source": [
    "minorm=stats.norm(values)"
   ]
  },
  {
   "cell_type": "code",
   "execution_count": 37,
   "metadata": {
    "collapsed": false,
    "scrolled": false
   },
   "outputs": [
    {
     "data": {
      "image/png": "[encoded data removed]",
      "text/plain": [
       "<matplotlib.figure.Figure at 0x7fe4f06e0750>"
      ]
     },
     "metadata": {},
     "output_type": "display_data"
    }
   ],
   "source": [
    "x=np.arange(-20,20,0.1)\n",
    "plt.plot(x,map(stats.norm(7.4437499999999996, 1.3176535726434317).pdf,x))\n",
    "plt.scatter(data,np.full(len(data),.5))\n",
    "plt.show()"
   ]
  },
  {
   "cell_type": "code",
   "execution_count": 38,
   "metadata": {
    "collapsed": false
   },
   "outputs": [
    {
     "data": {
      "image/png": "[encoded data removed]",
      "text/plain": [
       "<matplotlib.figure.Figure at 0x7fe50a9abb50>"
      ]
     },
     "metadata": {},
     "output_type": "display_data"
    }
   ],
   "source": [
    "stats.probplot(data, plot=plt)\n",
    "plt.show()"
   ]
  },
  {
   "cell_type": "markdown",
   "metadata": {},
   "source": [
    "#### Ejercicio\n",
    "\n",
    "El parámetro de una distribución de Poisson\n",
    "puede tomar uno de los cuatro valores siguientes: $\\lambda = 4;\\;\n",
    "4,5;\\; 5,5;\\; 6$. Decida cual de ellos puede ser, considerando una\n",
    "muestra aleatoria simple de tamaño dos $(X_1,X_2)$, con\n",
    "realización $(x_1,x_2)=(3,7)$, y basándose en el principio de\n",
    "máxima verosimilitud.\n"
   ]
  },
  {
   "cell_type": "code",
   "execution_count": 19,
   "metadata": {
    "collapsed": true
   },
   "outputs": [],
   "source": [
    "def getLikelyhood(l):\n",
    "    mipoisson = stats.poisson(l)\n",
    "    return mipoisson.pmf(3)*mipoisson.pmf(7)"
   ]
  },
  {
   "cell_type": "code",
   "execution_count": 22,
   "metadata": {
    "collapsed": false,
    "scrolled": true
   },
   "outputs": [
    {
     "name": "stdout",
     "output_type": "stream",
     "text": [
      "0.0116322109959\n",
      "0.0138961026573\n",
      "0.013989616433\n",
      "0.0122856159239\n"
     ]
    }
   ],
   "source": [
    "for i in [4,4.5,5.5,6]:\n",
    "    print getLikelyhood(i)"
   ]
  },
  {
   "cell_type": "code",
   "execution_count": null,
   "metadata": {
    "collapsed": true
   },
   "outputs": [],
   "source": [
    "# Elejimos 5.5"
   ]
  },
  {
   "cell_type": "markdown",
   "metadata": {},
   "source": [
    "#### Ejercicio\n",
    "\n",
    "Vamos a clasificar a las personas de un país según dos características: color de los ojos (claros u oscuros) y sexo (hombre o mujer). Las dos características son independientes.\n",
    "\n",
    "* Obtenemos una muestra al azar de la población con los\n",
    "siguientes resultados\n",
    "\n",
    "    * 200 mujeres con ojos claros. \n",
    "    * 150 hombres con ojosclaros. \n",
    "    * 350 mujeres con ojos oscuros. \n",
    "    * 300 hombres con ojos oscuros.\n",
    "\n",
    "* Obtener la estimación de máxima verosimilitud de\n",
    "\n",
    "    * p= probabilidad de ser hombre. \n",
    "    * q= probabilidad de tener ojos claros.\n",
    "\n",
    "*  Después de muchas horas de intenso trabajo llegamos a\n",
    "saber con exactitud que p=0,4 y q=0,6. Si tomamos 8 personas al\n",
    "azar de ese país, ¿cuál es la probabilidad de encontrar alguna\n",
    "mujer de ojos oscuros? Y si la muestra que tomamos es de 200\n",
    "personas, ¿cuál es la probabilidad de que haya más de 60\n",
    "mujeres de ojos oscuros?"
   ]
  },
  {
   "cell_type": "code",
   "execution_count": 24,
   "metadata": {
    "collapsed": true
   },
   "outputs": [],
   "source": [
    "from sympy import *\n",
    "init_printing()"
   ]
  },
  {
   "cell_type": "code",
   "execution_count": 6,
   "metadata": {
    "collapsed": true
   },
   "outputs": [],
   "source": [
    "p = Symbol('p')\n",
    "q = Symbol('q')"
   ]
  },
  {
   "cell_type": "code",
   "execution_count": 7,
   "metadata": {
    "collapsed": false
   },
   "outputs": [
    {
     "data": {
      "image/png": "[encoded data removed]",
      "text/latex": [
       "$$p^{450} q^{350} \\left(- p + 1\\right)^{550} \\left(- q + 1\\right)^{650}$$"
      ],
      "text/plain": [
       " 450  350         550         650\n",
       "p   ⋅q   ⋅(-p + 1)   ⋅(-q + 1)   "
      ]
     },
     "execution_count": 7,
     "metadata": {},
     "output_type": "execute_result"
    }
   ],
   "source": [
    "P = (1-p)**200 * q**200  * p**150 * q**150 * (1-p)**350 * (1-q)**350 * p**300 * (1-q)**300\n",
    "P"
   ]
  },
  {
   "cell_type": "code",
   "execution_count": 28,
   "metadata": {
    "collapsed": false
   },
   "outputs": [
    {
     "data": {
      "image/png": "[encoded data removed]",
      "text/latex": [
       "$$- 650 p^{450} q^{350} \\left(- p + 1\\right)^{550} \\left(- q + 1\\right)^{649} + 350 p^{450} q^{349} \\left(- p + 1\\right)^{550} \\left(- q + 1\\right)^{650}$$"
      ],
      "text/plain": [
       "       450  350         550         649        450  349         550         65\n",
       "- 650⋅p   ⋅q   ⋅(-p + 1)   ⋅(-q + 1)    + 350⋅p   ⋅q   ⋅(-p + 1)   ⋅(-q + 1)  \n",
       "\n",
       "0\n",
       " "
      ]
     },
     "execution_count": 28,
     "metadata": {},
     "output_type": "execute_result"
    }
   ],
   "source": [
    "diff(P,q)"
   ]
  },
  {
   "cell_type": "code",
   "execution_count": 31,
   "metadata": {
    "collapsed": false
   },
   "outputs": [
    {
     "data": {
      "image/png": "[encoded data removed]",
      "text/latex": [
       "$$450 \\log{\\left (p \\right )} + 350 \\log{\\left (q \\right )} + 550 \\log{\\left (- p + 1 \\right )} + 650 \\log{\\left (- q + 1 \\right )}$$"
      ],
      "text/plain": [
       "450⋅log(p) + 350⋅log(q) + 550⋅log(-p + 1) + 650⋅log(-q + 1)"
      ]
     },
     "execution_count": 31,
     "metadata": {},
     "output_type": "execute_result"
    }
   ],
   "source": [
    "lp = 450*log(p)+350*log(q)+550*log(1-p)+650*log(1-q)\n",
    "lp"
   ]
  },
  {
   "cell_type": "code",
   "execution_count": 34,
   "metadata": {
    "collapsed": false
   },
   "outputs": [
    {
     "data": {
      "image/png": "[encoded data removed]",
      "text/latex": [
       "$$\\left [ \\frac{9}{20}\\right ]$$"
      ],
      "text/plain": [
       "[9/20]"
      ]
     },
     "execution_count": 34,
     "metadata": {},
     "output_type": "execute_result"
    }
   ],
   "source": [
    "ps=solve(diff(lp,p),p)\n",
    "ps"
   ]
  },
  {
   "cell_type": "code",
   "execution_count": 37,
   "metadata": {
    "collapsed": false
   },
   "outputs": [
    {
     "data": {
      "image/png": "[encoded data removed]",
      "text/latex": [
       "$$\\left [ \\frac{7}{20}\\right ]$$"
      ],
      "text/plain": [
       "[7/20]"
      ]
     },
     "execution_count": 37,
     "metadata": {},
     "output_type": "execute_result"
    }
   ],
   "source": [
    "qs=solve(diff(lp,q),q)\n",
    "qs"
   ]
  },
  {
   "cell_type": "code",
   "execution_count": 17,
   "metadata": {
    "collapsed": false
   },
   "outputs": [],
   "source": [
    "a = Symbol(\"a\")\n",
    "b = Symbol(\"b\")"
   ]
  },
  {
   "cell_type": "code",
   "execution_count": 25,
   "metadata": {
    "collapsed": false
   },
   "outputs": [
    {
     "name": "stdout",
     "output_type": "stream",
     "text": [
      "log(a**b)\n",
      "=\n",
      "b*log(a)\n"
     ]
    }
   ],
   "source": [
    "print log(a**b)\n",
    "print \"=\"\n",
    "print b*log(a)"
   ]
  },
  {
   "cell_type": "code",
   "execution_count": 26,
   "metadata": {
    "collapsed": false
   },
   "outputs": [
    {
     "name": "stdout",
     "output_type": "stream",
     "text": [
      "log(a*b)\n",
      "=\n",
      "log(a) + log(b)\n"
     ]
    }
   ],
   "source": [
    "print log(a*b)\n",
    "print \"=\"\n",
    "print log(b)+log(a)"
   ]
  },
  {
   "cell_type": "markdown",
   "metadata": {},
   "source": [
    "\n",
    "#### Ejercicio\n",
    "El error (en centigramos) que se comete al pesar un objeto en una balanza puede considerarse como una variable aleatoria $X$ con distribución $N(0;15)$.\n",
    "\n",
    "* Probabilidad de que el error cometido (en valor absoluto) en\n",
    "una pesada sea inferior a 20 centigramos. \n",
    "* Número mínimo de pesadas para que el error medio cometido (en valor absoluto) sea inferior a 5 centigramos con una probabilidad de 0,9.\n",
    "\n",
    "\n"
   ]
  }
 ],
 "metadata": {
  "kernelspec": {
   "display_name": "Python 2",
   "language": "python",
   "name": "python2"
  },
  "language_info": {
   "codemirror_mode": {
    "name": "ipython",
    "version": 2
   },
   "file_extension": ".py",
   "mimetype": "text/x-python",
   "name": "python",
   "nbconvert_exporter": "python",
   "pygments_lexer": "ipython2",
   "version": "2.7.13"
  }
 },
 "nbformat": 4,
 "nbformat_minor": 1
}
