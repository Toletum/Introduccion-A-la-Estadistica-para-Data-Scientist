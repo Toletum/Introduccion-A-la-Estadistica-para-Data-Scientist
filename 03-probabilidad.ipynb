{
 "cells": [
  {
   "cell_type": "markdown",
   "metadata": {},
   "source": [
    "## Introduccion\n",
    "\n",
    "Experimento aleatorio\n",
    "\n",
    "Espacio Muestral: $\\Omega$\n",
    "\n",
    "Sucesos elementales\n",
    "\n",
    "Un suceso es un subconjunto del espacio muestral\n",
    "\n",
    "Suceso seguro $\\Omega$ y suceso imposible $\\emptyset$"
   ]
  },
  {
   "cell_type": "markdown",
   "metadata": {},
   "source": [
    "### Operaciones con sucesos:\n",
    "\n",
    "* Union\n",
    "\n",
    "* Interseccion\n",
    "\n",
    "  * Sucesos incompatibles o disjuntos\n",
    "  \n",
    "    * Disjuntos dos a dos\n",
    "    \n",
    "    * **Particion** del espacio muestral\n",
    "    \n",
    "* Diferencia de sucesos\n",
    "\n",
    "  * Suceso **complementario**\n",
    "  \n",
    "#### Propiedades:\n",
    "\n",
    "* $\\{S_1^c\\}^c = S_1$\n",
    "* $\\Omega^c = \\emptyset$\n",
    "* $\\emptyset^c = \\Omega$\n",
    "* $S_1 \\cup S_1^c = \\Omega$\n",
    "* $S_1 \\cap S_1^c = \\emptyset$\n",
    "* Propiedad conmutativa $$S_1 \\cup S_2 = S_2 \\cup S_1 \\hspace{1cm} S_1 \\cap S_2 = S_2 \\cap S_1$$\n",
    "* Propiedad asociativa $$\\{S_1 \\cup S_2\\} \\cup S_3 = S_1 \\cup \\{S_2 \\cup S_3\\} \\hspace{1cm} \\{S_1 \\cap S_2\\} \\cap S_3 = S_1 \\cap \\{S_2 \\cap S_3\\}$$ \n",
    "* Propiedad distributiva $$S_1 \\cup \\{S_2 \\cap S_3\\} = \\{S_1 \\cup S_2\\} \\cap \\{S_1 \\cup S_3\\} \\hspace{1cm} S_1 \\cap \\{S_2 \\cup S_3\\} = \\{S_1 \\cap S_2\\} \\cup \\{S_1 \\cap S_3\\}$$ \n",
    "* Leyes de Morgan $$\\{S_1 \\cup S_2\\}^c = S_1^c \\cap S_2^c \\hspace{1cm} \\{S_1 \\cap S_2\\}^c = S_1^c \\cup S_2^c$$"
   ]
  },
  {
   "cell_type": "markdown",
   "metadata": {},
   "source": [
    "## Probabilidad\n",
    "\n",
    "Espacios probabilisticos $(\\Omega, \\mathcal{A}, P)$\n",
    "  \n",
    "#### Propiedades de un espacio probabilistico:\n",
    "\n",
    "1) $P(S^c) = 1 - P(S)$\n",
    "  \n",
    "2) $P(\\emptyset) = 0$\n",
    "  \n",
    "3) Si $S_1 \\subset S_2$:\n",
    "  * $P(S_1) \\leq P(S_2)$\n",
    "  * $P(S_1 - S_2) = P(S_2) - P(S_1)$\n",
    "  \n",
    "4) $P(S_1 \\cup S_2) = P(S_1) + P(S_2) - P(S_1 \\cap S_2)$\n",
    "\n",
    "#### La regla de Laplace\n",
    "\n",
    "Para un espacio muestral $\\Omega$, con un conjunto finito de $\\omega_n$ sucesos elementales:\n",
    "\n",
    "$$P(\\omega_i) = \\frac{1}{n}, \\hspace{1cm} i = 1,2,···, n$$"
   ]
  },
  {
   "cell_type": "code",
   "execution_count": 1,
   "metadata": {
    "collapsed": false
   },
   "outputs": [
    {
     "data": {
      "text/plain": [
       "array([  0.        ,   2.77777778,   5.55555556,   8.33333333,\n",
       "        11.11111111,  13.88888889,  16.66666667,  13.88888889,\n",
       "        11.11111111,   8.33333333,   5.55555556,   2.77777778])"
      ]
     },
     "execution_count": 1,
     "metadata": {},
     "output_type": "execute_result"
    }
   ],
   "source": [
    "# Calcula la probabilidad de cada uno de los posibles\n",
    "# resultados de la suma de dos dados\n",
    "\n",
    "import numpy as np\n",
    "\n",
    "# Creamos un array de ceros para guardar el numero de ocurrencias\n",
    "resultado = np.zeros(12)\n",
    "\n",
    "# Tiramos un dado\n",
    "for i in range(1,7):\n",
    "    # Tiramos el otro\n",
    "    for j in range(1,7):\n",
    "        # calculamos cuanto suman\n",
    "        suma = i + j\n",
    "        \n",
    "        # Agregamos en la posicion adecuada:\n",
    "        resultado[suma - 1] += 100 / 36.0\n",
    "\n",
    "resultado"
   ]
  },
  {
   "cell_type": "code",
   "execution_count": 2,
   "metadata": {
    "collapsed": false
   },
   "outputs": [
    {
     "data": {
      "image/png": "[encoded data removed]",
      "text/plain": [
       "<matplotlib.figure.Figure at 0x7f23fb0f5850>"
      ]
     },
     "metadata": {},
     "output_type": "display_data"
    }
   ],
   "source": [
    "import matplotlib.pyplot as plt\n",
    "%matplotlib inline\n",
    "\n",
    "# Ploteamos los valores\n",
    "plt.bar(range(1,13), resultado)\n",
    "plt.show()"
   ]
  },
  {
   "cell_type": "code",
   "execution_count": 3,
   "metadata": {
    "collapsed": false
   },
   "outputs": [
    {
     "name": "stdout",
     "output_type": "stream",
     "text": [
      "0.8 0.2 0.45 0.65\n"
     ]
    }
   ],
   "source": [
    "# Ejemplo 5\n",
    "\n",
    "enunciado = \"\"\"El 60 % de la población de una determinada ciudad\n",
    "lee el periódico A, el 35 % el B y un 15 % ambos. Elegido un\n",
    "ciudadano al azar, calcular la probabilidad de:\n",
    "1. ser lector de algún periódico:\n",
    "2. no ser lector de ninguno;\n",
    "3. leer solo el periódico A;\n",
    "4. leer solo uno de los dos periódicos\"\"\"\n",
    "\n",
    "Pa = .6\n",
    "Pb = .35\n",
    "Pab = .15\n",
    "\n",
    "sol_1 = Pa + Pb - Pab # Union\n",
    "sol_2 = 1 - sol_1 # Complementario de sol_1\n",
    "sol_3 = Pa - Pab # diferencia\n",
    "sol_4 = Pa - Pab + Pb -Pab # XOR: o A o B pero no los dos a la vez.\n",
    "\n",
    "print sol_1, sol_2, sol_3, sol_4"
   ]
  },
  {
   "cell_type": "code",
   "execution_count": 4,
   "metadata": {
    "collapsed": false
   },
   "outputs": [],
   "source": [
    "# Ejercicio 18: \n",
    "\n",
    "enunciado = \"\"\"Consideramos el experimento aleatorio: sacar una\n",
    "carta de la baraja española.\n",
    "¿Cuál es el espacio muestral asociado a este experimento aleatorio?\n",
    "Consideramos los sucesos:\n",
    "\n",
    "S1 = { que la carta sea una copa },\n",
    "S2 = { que la carta sea una jota, caballo o rey },\n",
    "S3 = { que la carta sea un as },\n",
    "S4 = { que la carta sea un rey }.\n",
    "\n",
    "Determínense los sucesos\n",
    "\n",
    "1. S1 ∩ S4, S3 ∩ S4, S1 ∩ S2 ∩ S4\n",
    "\n",
    "2. S1 ∪ S3, S2 ∪ S3 ∪ S4\n",
    "\n",
    "3. S1 − S4, S4 − S3, S2 − (S1 ∩ S4), S3 − (S1 ∪ S2)\n",
    "\n",
    "4. S1c, (S2 ∩ S3)c, (S2 ∪ S3)c.\"\"\""
   ]
  },
  {
   "cell_type": "code",
   "execution_count": 5,
   "metadata": {
    "collapsed": true
   },
   "outputs": [],
   "source": [
    "# Creamos las cartas como cadenas 'numero' + 'palo'\n",
    "\n",
    "baraja = set()\n",
    "\n",
    "for n in range(1,11):\n",
    "    for p in ['o', 'c', 'e', 'b']:    \n",
    "        carta = str(n) + p\n",
    "        baraja.add(carta)\n",
    "\n",
    "S1 = set()\n",
    "for n in range(1,11):\n",
    "    carta = str(n) + 'c'\n",
    "    S1.add(carta)\n",
    "    \n",
    "S2 = set()\n",
    "for n in range(8,11):\n",
    "    for p in ['o', 'c', 'e', 'b']:\n",
    "        carta = str(n) + p\n",
    "        S2.add(carta)\n",
    "\n",
    "S3 = set()\n",
    "for p in ['o', 'c', 'e', 'b']:\n",
    "    carta = '1' + p\n",
    "    S3.add(carta)\n",
    "    \n",
    "S4 = set()\n",
    "for p in ['o', 'c', 'e', 'b']:\n",
    "    carta = '10' + p\n",
    "    S4.add(carta)\n",
    "    \n"
   ]
  },
  {
   "cell_type": "code",
   "execution_count": 6,
   "metadata": {
    "collapsed": false
   },
   "outputs": [],
   "source": [
    "P_S1 = 1.0 * len(S1) / len(baraja)\n",
    "P_S2 = 1.0 * len(S2) / len(baraja)\n",
    "P_S3 = 1.0 * len(S3) / len(baraja)\n",
    "P_S4 = 1.0 * len(S4) / len(baraja)\n",
    "#print P_S1, P_S2, P_S3, P_S4\n",
    "omega = 1.0\n",
    "\n",
    "# Vamos haciendo las operaciones con los conjuntos:\n",
    "sol1_1 = P_S1 * P_S4\n",
    "sol1_1 = S1 & S4\n",
    "sol1_2 = S3 & S4\n",
    "sol1_3 = P_S1 * P_S4\n",
    "sol1_3 = S1 & S2 & S4\n",
    "#print sol1_1, sol1_2, sol1_3\n",
    "\n",
    "sol2_1 = S1 | S3\n",
    "sol2_2 = S2 | S3 | S4\n",
    "#print (sol2_1, sol2_2)\n",
    "\n",
    "sol3_1 = S1 - S4\n",
    "sol3_2 = S4 - S3\n",
    "sol3_3 = S2 - (S1.intersection(S4))\n",
    "sol3_4 = S3 - (S1.union(S2))\n",
    "#print sol3_1, sol3_2, sol3_3, sol3_4\n",
    "\n",
    "sol4_1 = baraja - S1\n",
    "sol4_2 = baraja - (S2 & S3)\n",
    "sol4_3 = baraja - (S2 | S3)\n",
    "#print len(sol4_3)"
   ]
  },
  {
   "cell_type": "markdown",
   "metadata": {},
   "source": [
    "## Probabilidad condicionada\n",
    "\n",
    "La informacion afecta al *espacio muestral*\n",
    "\n",
    "$$P(A\\mid B) = \\frac{P(A\\cap B)}{P(B)}$$\n"
   ]
  },
  {
   "cell_type": "markdown",
   "metadata": {},
   "source": [
    "## Sucesos independientes\n",
    "\n",
    "Definicion:\n",
    "\n",
    "$$P(A\\mid B) = P(A)$$\n",
    "\n",
    "Propiedades:\n",
    "\n",
    "$$P(A \\cap B) = P(A) \\cdot P(B)$$\n",
    "\n",
    "$$P(A \\mid B) = P(A)$$\n",
    "\n",
    "$$P(B \\mid A) = P(B)$$"
   ]
  },
  {
   "cell_type": "markdown",
   "metadata": {},
   "source": [
    "Dado el experimento aleatorio, lanzar dos dados:\n",
    "\n",
    "Sa = sacar un 7 en la suma\n",
    "\n",
    "Sb = sacar un 3 en uno de los dados\n",
    "\n",
    "Sc = sacar un 9 en la suma\n",
    "\n",
    "Sa y Sb independientes? Sí\n",
    "Sb y Sc? No\n"
   ]
  },
  {
   "cell_type": "markdown",
   "metadata": {},
   "source": [
    "## Teorema de la probabilidad total y de Bayes\n",
    "\n",
    "### Teorema de la probabilidad total\n",
    "\n",
    "$$P(S) = \\sum_{i=1}^n P(S \\mid S_i)P(S_i)$$\n",
    "\n",
    "### Teorema de Bayes\n",
    "\n",
    "$$P(A \\mid B) = \\frac{P(B \\mid A)P(A)}{P(B)}$$"
   ]
  },
  {
   "cell_type": "markdown",
   "metadata": {},
   "source": [
    "Ejemplo 19. En una caja A, hay 10 bombillas, de las que 3 no funcionan; en otra caja\n",
    "B hay 8 con 2 fundidas; y en una última caja C hay 12 bombillas de las que tres son\n",
    "defectuosas. Escogida una caja al azar, de la que se extrae, sin mirar, una bombilla:\n",
    "1. ¿Cuál es la probabilidad de que no funcione?\n",
    "2. Si salió una bombilla fundida, ¿cuál es la probabilidad de que fuese de la caja\n",
    "A?"
   ]
  },
  {
   "cell_type": "code",
   "execution_count": null,
   "metadata": {
    "collapsed": true
   },
   "outputs": [],
   "source": []
  },
  {
   "cell_type": "code",
   "execution_count": 7,
   "metadata": {
    "collapsed": false
   },
   "outputs": [
    {
     "data": {
      "text/plain": [
       "0.07763975155279504"
      ]
     },
     "execution_count": 7,
     "metadata": {},
     "output_type": "execute_result"
    }
   ],
   "source": [
    "# Mamografias:\n",
    "\n",
    "enunciado = \"\"\"Sabemos que el 1% de las pacientes que se\n",
    "someten a una mamografia rutinaria tiene de hecho cancer\n",
    "de mama. El 80% de las pacientes enfermas dan positivo.\n",
    "El 9.6% de las pacientes sanas dan positivo en el test.\n",
    "Cual es la probabilidad de que una paciente que ha dado\n",
    "positivo tenga de hecho cancer de mama?\"\"\"\n",
    "\n",
    "P_pos_canc = .8\n",
    "P_canc = .01\n",
    "P_pos_sana = .096\n",
    "P_pos = P_pos_canc * P_canc + P_pos_sana * (1 - P_canc)\n",
    "\n",
    "P_canc_pos = (.8 * .01) / P_pos\n",
    "\n",
    "P_canc_pos"
   ]
  },
  {
   "cell_type": "markdown",
   "metadata": {},
   "source": [
    "## Ejercicios"
   ]
  },
  {
   "cell_type": "code",
   "execution_count": 8,
   "metadata": {
    "collapsed": false
   },
   "outputs": [],
   "source": [
    "# Ejercicio 19 \n",
    "\n",
    "enunciado = \"\"\"Consideremos un experimento aleatorio\n",
    "con espacio muestral asociado Ω. Sean S1, S2 y S3 tres sucesos tales que:\n",
    "Ω = S1 ∪ S2 ∪ S3,\n",
    "S1 ∩ S2 = S1 ∩ S3 = S2 ∩ S3 y \n",
    "P(S1) = 1/4, P(S2) = 1/2 y P(S1 ∩ S2) = 1/8.\n",
    "\n",
    "Calcule P(S3).\"\"\""
   ]
  },
  {
   "cell_type": "code",
   "execution_count": 9,
   "metadata": {
    "collapsed": false
   },
   "outputs": [],
   "source": [
    "# Ejercicio 23\n",
    "\n",
    "enunciado = \"\"\"Se extrae una carta de una baraja española\n",
    "y se consideran los sucesos siguientes:\n",
    "A = “La carta extraída sea el rey de oros”,\n",
    "B = “la carta extraída es un oro”,\n",
    "C = “la carta extraída es el as de espadas o un oro”.\"\"\""
   ]
  },
  {
   "cell_type": "markdown",
   "metadata": {},
   "source": [
    "Ejercicio 24. Calcular $P(A \\cap B^c)$ sabiendo que $P(A)=a$, $P(B)=b$, y $P(A \\cup B)=c$."
   ]
  },
  {
   "cell_type": "code",
   "execution_count": 10,
   "metadata": {
    "collapsed": false
   },
   "outputs": [],
   "source": [
    "# Ejercicio 25\n",
    "\n",
    "enunciado = \"\"\"Un aparato tiene dos componentes A Y B. Los fallos en el aparato\n",
    "vienen motivados por fallos en alguna de las componentes. Al cabo de 5 años la\n",
    "componente A ha fallado en el 6 % de los aparatos, la componente B en el 8 % y las\n",
    "dos componentes en el 4 %.\n",
    "1. Los fallos de A y B, ¿son independientes?\n",
    "2. Si B ha fallado, ¿cuál es la probabilidad de que A haya fallado también?\"\"\""
   ]
  },
  {
   "cell_type": "markdown",
   "metadata": {},
   "source": [
    "Ejercicio 27. De cada lote de 10 ordenadores, se toma una muestra de 4 y se inspeccionan,\n",
    "rechazándose el lote si uno o mas de un ordenador son defectuosos. Si en un\n",
    "lote hay 5 defectuosos, cuál es la probabilidad de que se rechace?"
   ]
  },
  {
   "cell_type": "code",
   "execution_count": 11,
   "metadata": {
    "collapsed": false
   },
   "outputs": [
    {
     "data": {
      "text/plain": [
       "0.9174311926605504"
      ]
     },
     "execution_count": 11,
     "metadata": {},
     "output_type": "execute_result"
    }
   ],
   "source": [
    "# Ejercicio 16\n",
    "\n",
    "enunciado = \"\"\"Un banco ha comprobado que la probabilidad de que\n",
    "un cliente con fondos extienda un cheque con fecha equivocada es\n",
    "de 0,01; en cambio todo cliente sin fondos pone una fecha equivocada\n",
    "en sus cheques. El 90 % de los clientes del banco tiene fondos. Se\n",
    "recibe a la fecha de hoy en caja un cheque con fecha equivocada.\n",
    "¿Qué probabilidad hay de que sea de un cliente sin fondos?\"\"\"\n",
    "\n",
    "P_f = .9\n",
    "P_fe_f = .01\n",
    "P_nf = 1 - P_f\n",
    "P_fe_nf = 1\n",
    "\n",
    "P_fe = P_nf * P_fe_nf + P_f * P_fe_f\n",
    "\n",
    "P_nf_fe = P_fe_nf * P_nf / P_fe\n",
    "\n",
    "P_nf_fe"
   ]
  },
  {
   "cell_type": "code",
   "execution_count": 12,
   "metadata": {
    "collapsed": false
   },
   "outputs": [
    {
     "data": {
      "text/plain": [
       "0.22131147540983606"
      ]
     },
     "execution_count": 12,
     "metadata": {},
     "output_type": "execute_result"
    }
   ],
   "source": [
    "# Ejercicio 33.\n",
    "\n",
    "enunciado = \"\"\"En un sistema de alarma, la probabilidad de que\n",
    "se produzca un peligro es 0.1. Si éste se produce, la \n",
    "probabilidad de que la alarma funcione es 0.95. La probabilidad\n",
    "de que la alarma funcione sin haber existido peligro es 0.03.\n",
    "Calcule la probabilidad de que habiendo funcionado\n",
    "la alarma no haya existido peligro.\"\"\"\n",
    "\n",
    "# la s representa \"sonido\"\n",
    "# la p \"peligro\"\n",
    "\n",
    "P_p = .1\n",
    "P_np = 1 - P_p\n",
    "P_s_p = .95\n",
    "P_s_np = .03\n",
    "\n",
    "P_s = P_s_np * P_np + P_s_p * P_p\n",
    "\n",
    "P_np_s = P_s_np * P_np / P_s\n",
    "\n",
    "P_np_s"
   ]
  }
 ],
 "metadata": {
  "kernelspec": {
   "display_name": "Python 2",
   "language": "python",
   "name": "python2"
  },
  "language_info": {
   "codemirror_mode": {
    "name": "ipython",
    "version": 2
   },
   "file_extension": ".py",
   "mimetype": "text/x-python",
   "name": "python",
   "nbconvert_exporter": "python",
   "pygments_lexer": "ipython2",
   "version": "2.7.13"
  }
 },
 "nbformat": 4,
 "nbformat_minor": 1
}
