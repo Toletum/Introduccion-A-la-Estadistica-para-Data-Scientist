{
 "cells": [
  {
   "cell_type": "markdown",
   "metadata": {},
   "source": [
    "# Variable Aleatoria\n",
    "\n",
    "Una variable aleatoria es una funcion que asigna valores a sucesos, ie, que mapea de sucesos a valores.\n",
    "\n",
    "\n",
    "*Ejemplo: Una compañía de bebidas anuncia premios en los tapones asegurando\n",
    "que en cada 1000 tapones hay 500 con inténtelo otra vez\", 300 con premio de 5 euros,\n",
    "150 con premio de 10 euros , 40 con premio de 50 euros y 10 con premio de 100 euros.\n",
    "Un individuo, al que no le gusta esa bebida, decide comprar una bebida cuyo coste\n",
    "es de 10 euros. Vamos a caracterizar la ganancia por una variable aleatoria:*\n",
    "\n",
    "$$X : \\Omega \\mapsto \\mathbb{R} \\left\\{ \\begin{array}{lllll}  X( \\textrm{inténtelo otra vez})=0-10=-10\n",
    "  \\\\ X( 5 \\textrm{ euros})=5-10=-5 \\\\ X(  10 \\textrm{ euros})=10-10=0 \\\\ X( 50 \\textrm{ euros})=50-10=40\n",
    "   \\\\ X( 100 \\textrm{ euros})=100-10=90 , \\end{array} \\right. $$"
   ]
  },
  {
   "cell_type": "markdown",
   "metadata": {},
   "source": [
    "## Funcion de distribucion\n",
    "\n",
    "Ejercicio: vamos a calcular las probabilidades:\n",
    "\n",
    "$P(100) = 0$\n",
    "\n",
    "$P(-7, 3) = \\frac{300}{1000} + \\frac{150}{1000}$\n",
    "\n",
    "$P(30, \\infty) = \\frac{40}{1000} + \\frac{10}{1000}$\n",
    "\n",
    "$P(-\\infty, 20) = \\frac{500}{1000} + \\frac{300}{1000} + \\frac{150}{1000}$\n",
    "\n",
    "$P(6) = 0$\n",
    "\n",
    "$P(40) = \\frac{40}{1000}$"
   ]
  },
  {
   "cell_type": "markdown",
   "metadata": {},
   "source": [
    "Ejemplo 3. El lanzamiento de un dado nos cuesta 2 euros. Si sacamos un múltiplo\n",
    "de tres, nos devuelven el dinero mientras que si obtenemos un múltiplo de 5 nos\n",
    "dan 5 euros.\n",
    "Calcúlese al probabilidad de que al jugar una vez\n",
    "1. obtengamos una ganancia de 3 euros;\n",
    "2. no perdamos dinero;\n",
    "3. perdamos dinero"
   ]
  },
  {
   "cell_type": "markdown",
   "metadata": {},
   "source": [
    "### La funcion de distribucion $F_X$\n",
    "\n",
    "Es una funcion que asocia los valores de una variable aleatoria con sus respectivas probabilidades:\n",
    "\n",
    "\n",
    "$$ \\boxed{ \\begin{array}{ll} F_X: \\mathbb{R} \\; \\longmapsto \\; [0,1] \\\\ \\hspace{1cm} x\n",
    "\\longrightarrow F_X(x)=P(-\\infty, x]=P(\\{ \\omega \\in \\Omega: \\; X(\\omega) \\leq x\\}) \\end{array} } $$\n",
    "\n",
    "Ejemplo: en la promocion anterior con las botellas premiadas:\n",
    "\n",
    "* $F_X(2)$ nos indica la probabilidad de que al comprar una botella tengamos pérdidas o una ganancia menor o igual que dos euros.\n",
    "\n",
    "$$F_X(2)=P(-\\infty,2]=P(\\{ \\omega \\in \\Omega; \\; X(\\omega) \\leq 2 \\})=P(\\{ \\textrm{otra vez}, \\textrm{5 euros}, \\textrm{10 euros} \\})\n",
    "$$ $$= P(\\{ \\textrm{otra\n",
    "vez}\\}) +P(\\{5 \\textrm{ euros}\\}) + P(\\{10 \\textrm{\n",
    "euros}\\})=\\frac{1}{2}+\\frac{3}{10}+\\frac{3}{20}=\\frac{19}{20}.$$\n",
    "\n",
    "* $F_X(-3)$ nos indica la probabilidad de que al comprar una botella tengamos pérdidas menores o iguales que $3$ euros.\n",
    "\n",
    "$$F_X(-3)=P(-\\infty,-3]=P(\\{ \\omega \\in \\Omega; \\; X(\\omega) \\leq -3 \\})=P(\\{ \\textrm{otra vez}, \\textrm{5 euros} \\})\n",
    "$$ $$= P(\\{ \\textrm{otra\n",
    "vez}\\}) +P(\\{5 \\textrm{ euros}\\})=\\frac{1}{2}+\\frac{3}{10}=\\frac{8}{10}=\\frac{4}{5}.$$\n",
    "\n",
    "* $F_X(-37)$ nos indica la probabilidad de que al comprar una botella tengamos pérdidas menores o iguales que $37$ euros.\n",
    "\n",
    "$$F_X(-37)=P(-\\infty,-37]=P(\\{ \\omega \\in \\Omega; \\; X(\\omega) \\leq -37 \\})=P(\\emptyset)=0.$$\n",
    "\n",
    "* $F_X(82)$ nos indica la probabilidad de que al comprar una botella tengamos pérdidas o una ganancia menor o igual que $82$ euros.\n",
    "\n",
    "$$F_X(92)=P(-\\infty,92]=P(\\{ \\omega \\in \\Omega; \\; X(\\omega) \\leq 92 \\})$$ $$=P(\\{ \\textrm{otra vez}, \\textrm{5 euros}, \\textrm{10 euros},\n",
    "\\textrm{50 euros}, \\textrm{100 euros}  \\})\n",
    "$$ $$= P(\\{ \\textrm{otra\n",
    "vez}\\})+P(\\{5 \\textrm{ euros}\\}) + P(\\{10 \\textrm{ euros}\\})\n",
    "+P(\\{50 \\textrm{ euros}\\})$$ $$ + P(\\{100 \\textrm{\n",
    "euros}\\})=\\frac{1}{2}+\\frac{3}{10}+\\frac{3}{20}+\\frac{1}{25}+\\frac{1}{100}=1.$$\n",
    "\n",
    "* En general,\n",
    "\n",
    "$$\n",
    " F(x)=P(-\\infty,x]$$ $$= \\left\\{ \\begin{array}{lllll} P(\\emptyset)=0,  & x < -10 \\\\\n",
    "P(\\textrm{otra vez})=\\frac{1}{2}, & -10 \\leq x < -5 \\\\\n",
    "P(\\textrm{otra vez})+P(5 \\textrm{ euros})=\\frac{1}{2}+\\frac{3}{10}=\\frac{4}{5}, & -5 \\leq x < 0 \\\\\n",
    "P(\\textrm{otra vez})+\\cdot \\cdot +P(10 \\textrm{ euros})=\\frac{1}{2}+\\cdot \\cdot +\\frac{3}{20}=\\frac{19}{20}, & 0 \\leq x < 40 \\\\\n",
    "P(\\textrm{otra vez})+\\cdot \\cdot +P(50 \\textrm{ euros})=\\frac{1}{2}+\\cdot \\cdot +\\frac{1}{25}=\\frac{99}{100}, & 40 \\leq x < 50 \\\\\n",
    "P(\\textrm{otra vez})+\\cdot \\cdot +P(100 \\textrm{ euros})=\\frac{1}{2}+\\cdot \\cdot +\\frac{1}{100}=1, & 50 \\leq x . \\end{array} \\right. $$"
   ]
  },
  {
   "cell_type": "markdown",
   "metadata": {},
   "source": [
    "### Propiedades de la funcion de distribucion:\n",
    "\n",
    "* $\\lim_{x \\rightarrow -\\infty}F(x)=0, \\hspace{0.5cm}\\lim_{x \\rightarrow \\infty}F(x)=1.$\n",
    "\n",
    "     * $P(\\emptyset)=\\lim_{x \\rightarrow -\\infty}P(-\\infty,x]=\\lim_{x \\rightarrow\n",
    " -\\infty}F(x)=0$,\n",
    " \n",
    "     * $P(\\mathbb{R})=\\lim_{x \\rightarrow \\infty}P(-\\infty,x]=\\lim_{x \\rightarrow\n",
    " \\infty}F(x)=1$.\n",
    " \n",
    "* $F$ es creciente, $x_1 \\leq x_2 \\;\\;\n",
    "\\Longrightarrow \\; F(x_1) \\leq F(x_2)$. \n",
    "\n",
    "* $F$ es continua por la derecha, $\\lim_{h \\rightarrow 0,\n",
    "h>0}F(x+h)=F(x).$\n"
   ]
  },
  {
   "cell_type": "markdown",
   "metadata": {},
   "source": [
    "## Variables aleatorias discretas\n",
    "\n",
    "### Funcion de probabilidad $P_X$ \n",
    "\n",
    "Calculemos la funcion de probabilidad:\n",
    "\n",
    "* En el ejemplo de la promocion\n",
    "\n",
    "* En el ejemplo de la suma de dos dados\n",
    "\n",
    "### Distribucion de Bernouilli\n",
    "\n",
    "Exito y fracaso: Un experimento aleatorio con un solo intento."
   ]
  },
  {
   "cell_type": "markdown",
   "metadata": {},
   "source": [
    "### Distribucion binomial\n",
    "\n",
    "Equivale a la suma de $n$ Bernouillis:\n",
    "\n",
    "$$B=X_1+X_2+ \\cdot \\cdot \\cdot +X_n $$\n",
    "\n",
    "Es una variable aleatoria discreta. \n",
    "\n"
   ]
  },
  {
   "cell_type": "code",
   "execution_count": 1,
   "metadata": {
    "collapsed": false
   },
   "outputs": [
    {
     "name": "stdout",
     "output_type": "stream",
     "text": [
      "0.986158712799 0.982403712199\n"
     ]
    }
   ],
   "source": [
    "# Ejemplo 8. \n",
    "\n",
    "enunciado = \"\"\"Suponiendo que la probabilidad de que un recién nacido\n",
    "sea niña es 0,51, hallar la probabilidad de que una familia de 6\n",
    "hijos tenga:\n",
    "1. por lo menos una niña,\n",
    "2. por lo menos un niño,\n",
    "3. por lo menos dos niños y una niña\"\"\"\n",
    "\n",
    "Pchica = .51\n",
    "Pchico = 1 - Pchica\n",
    "\n",
    "# 1 - facil porque es el suceso complementario a \"todos ninios\":\n",
    "almenosunaninia = 1 - (Pchico ** 6)\n",
    "\n",
    "# 2 - idem\n",
    "almenosunninio = 1 - (Pchica ** 6)\n",
    "\n",
    "# 3 - murga, lo hacemos con scipy:\n",
    "\n",
    "print almenosunaninia, almenosunninio"
   ]
  },
  {
   "cell_type": "code",
   "execution_count": 2,
   "metadata": {
    "collapsed": false
   },
   "outputs": [
    {
     "data": {
      "text/plain": [
       "0.24364871401499996"
      ]
     },
     "execution_count": 2,
     "metadata": {},
     "output_type": "execute_result"
    }
   ],
   "source": [
    "from scipy import stats\n",
    "\n",
    "# num_ninias es la suma de 6 Bernouillis: ie, una binomial(6, p)\n",
    "num_ninias = stats.binom(6, 0.51)\n",
    "\n",
    "num_ninias.pmf(4)"
   ]
  },
  {
   "cell_type": "code",
   "execution_count": 3,
   "metadata": {
    "collapsed": false
   },
   "outputs": [
    {
     "data": {
      "image/png": "[encoded data removed]",
      "text/plain": [
       "<matplotlib.figure.Figure at 0x7f305f917c90>"
      ]
     },
     "metadata": {},
     "output_type": "display_data"
    }
   ],
   "source": [
    "# Inciso: plotear funciones.\n",
    "import matplotlib.pyplot as plt\n",
    "import numpy as np\n",
    "%matplotlib inline\n",
    "\n",
    "# Creamos los valores de x:\n",
    "xs = np.linspace(0, 6, 100)\n",
    "# las ys. en el caso de funciones de numpy es facil porque \n",
    "# toman vectores y operan elemento a elemento\n",
    "ys = np.sin(xs)\n",
    "\n",
    "_ = plt.plot(xs,ys)"
   ]
  },
  {
   "cell_type": "code",
   "execution_count": 4,
   "metadata": {
    "collapsed": false
   },
   "outputs": [
    {
     "data": {
      "text/plain": [
       "[<matplotlib.lines.Line2D at 0x7f305f514c90>]"
      ]
     },
     "execution_count": 4,
     "metadata": {},
     "output_type": "execute_result"
    },
    {
     "data": {
      "image/png": "[encoded data removed]",
      "text/plain": [
       "<matplotlib.figure.Figure at 0x7f305f45e490>"
      ]
     },
     "metadata": {},
     "output_type": "display_data"
    }
   ],
   "source": [
    "xs = np.linspace(0, 6, 7) # num_ninias\n",
    "ys = []\n",
    "\n",
    "# Construimos un vector con las ys (probabilidades) \n",
    "# correspondientes a cada x. Es decir, vamos a plotear\n",
    "# la funcion de probabilidad\n",
    "for x in xs:\n",
    "    prob = num_ninias.pmf(x)\n",
    "    ys.append(prob)\n",
    "\n",
    "# Construimos otras dos distribuciones con distinta p para comparar:\n",
    "anti_india = stats.binom(6, .7)\n",
    "xtra_india = stats.binom(6, .3)    \n",
    "\n",
    "ys_ai = []\n",
    "for x in xs:\n",
    "    prob = anti_india.pmf(x)\n",
    "    ys_ai.append(prob)\n",
    "    \n",
    "ys_xi = []\n",
    "for x in xs:\n",
    "    prob = xtra_india.pmf(x)\n",
    "    ys_xi.append(prob)\n",
    "\n",
    "    \n",
    "# Y ploteamos las tres con distintos colores:\n",
    "plt.plot(xs, ys)\n",
    "plt.plot(xs, ys_ai, color = 'green')\n",
    "plt.plot(xs, ys_xi, color = 'red')"
   ]
  },
  {
   "cell_type": "code",
   "execution_count": 5,
   "metadata": {
    "collapsed": false
   },
   "outputs": [
    {
     "data": {
      "text/plain": [
       "[<matplotlib.lines.Line2D at 0x7f305f382bd0>]"
      ]
     },
     "execution_count": 5,
     "metadata": {},
     "output_type": "execute_result"
    },
    {
     "data": {
      "image/png": "[encoded data removed]",
      "text/plain": [
       "<matplotlib.figure.Figure at 0x7f305f54eb50>"
      ]
     },
     "metadata": {},
     "output_type": "display_data"
    }
   ],
   "source": [
    "# Vamos a echarle un ojo ahora a las cdfs:\n",
    "\n",
    "xs = np.linspace(0, 6, 7) # num_ninias\n",
    "ys = []\n",
    "\n",
    "for x in xs:\n",
    "    prob = num_ninias.cdf(x)\n",
    "    ys.append(prob)\n",
    "\n",
    "anti_india = stats.binom(6, .7)\n",
    "xtra_india = stats.binom(6, .3)    \n",
    "\n",
    "ys_ai = []\n",
    "for x in xs:\n",
    "    prob = anti_india.cdf(x)\n",
    "    ys_ai.append(prob)\n",
    "    \n",
    "ys_xi = []\n",
    "for x in xs:\n",
    "    prob = xtra_india.cdf(x)\n",
    "    ys_xi.append(prob)\n",
    "\n",
    "plt.plot(xs, ys)\n",
    "plt.plot(xs, ys_ai, color = 'green')\n",
    "plt.plot(xs, ys_xi, color = 'red')"
   ]
  },
  {
   "cell_type": "markdown",
   "metadata": {},
   "source": [
    "La funcion de probabilidad de una distribucion binomial es:\n",
    "\n",
    "$$\n",
    "\\boxed{ P(X=k)=\\left(\n",
    "                   \\begin{array}{c}\n",
    "                     n \\\\\n",
    "                     k \\\\\n",
    "                   \\end{array}\n",
    "                 \\right)p^k(1-p)^{n-k}, \\hspace{0.5cm} k=0,1,2, \\cdot \\cdot \\cdot, n  }\n",
    "$$"
   ]
  },
  {
   "cell_type": "code",
   "execution_count": 6,
   "metadata": {
    "collapsed": false
   },
   "outputs": [
    {
     "data": {
      "text/plain": [
       "<Container object of 366 artists>"
      ]
     },
     "execution_count": 6,
     "metadata": {},
     "output_type": "execute_result"
    },
    {
     "data": {
      "image/png": "[encoded data removed]",
      "text/plain": [
       "<matplotlib.figure.Figure at 0x7f305f597210>"
      ]
     },
     "metadata": {},
     "output_type": "display_data"
    }
   ],
   "source": [
    "# con muchos mas intentos: cuantos dias llega Dani tarde al trabajo\n",
    "# en un anio, si cada dia tiene una probabilidad del 70%?\n",
    "\n",
    "n_intentos = 365\n",
    "prob_tarde = .7\n",
    "dist = stats.binom(n_intentos, prob_tarde)\n",
    "\n",
    "xs = range(366)\n",
    "ys = map(dist.pmf, xs)\n",
    "\n",
    "# Mejor con barras que con lineas porque es discreta.\n",
    "plt.bar(xs, ys)"
   ]
  },
  {
   "cell_type": "code",
   "execution_count": 7,
   "metadata": {
    "collapsed": false
   },
   "outputs": [
    {
     "name": "stdout",
     "output_type": "stream",
     "text": [
      "0.579325690748\n"
     ]
    },
    {
     "data": {
      "image/png": "[encoded data removed]",
      "text/plain": [
       "<matplotlib.figure.Figure at 0x7f305f5fa410>"
      ]
     },
     "metadata": {},
     "output_type": "display_data"
    }
   ],
   "source": [
    "# Ejercicio 5\n",
    "# vamos a dejar de hacer las cosas a pedales:\n",
    "from scipy import stats\n",
    "\n",
    "enunciado = \"\"\"El gerente de un restaurante que solo da servicio\n",
    "mediante reservas, sabe por experiencia, que el 20 % de las\n",
    "personas que reservan una mesa no asistirán.\n",
    "Si el restaurante acepta 25 reservas pero solo dispone de 20 mesas,\n",
    "¿cuál es la probabilidad de que a todas las personas que asistan\n",
    "al restaurante se le asigne una mesa?\"\"\"\n",
    "\n",
    "P_aparecer = .8\n",
    "reservas = 25\n",
    "\n",
    "# Esta es la distribucion de la variable aleatoria \"numero de personas que aparecen\"\n",
    "dist = stats.binom(reservas, P_aparecer)\n",
    "\n",
    "xs = range(25 + 1)\n",
    "# Y esta es una manera mucho mas concisa de generar una lista\n",
    "# aplicando una funcion (dist.cdf, porque queremos saber la probabilidad\n",
    "# de que lleguen x o menos) a cada uno de los elementos de otra lista (xs):\n",
    "ys = map(dist.cdf, xs)\n",
    "\n",
    "plt.bar(xs, ys)\n",
    "\n",
    "print dist.cdf(20)"
   ]
  },
  {
   "cell_type": "code",
   "execution_count": 8,
   "metadata": {
    "collapsed": true
   },
   "outputs": [],
   "source": [
    "# Ejercicio 6:\n",
    "\n",
    "enunciado = \"\"\"Cada muestra de aire tiene 10 % de posibilidades de contener una molécula\n",
    "rara particular. Suponga que las muestras son independientes con respecto a\n",
    "la presencia de la molécula rara. Encuentre la probabilidad de que en las siguientes\n",
    "18 muestras, exactamente dos contengan la molécula rara.\"\"\""
   ]
  },
  {
   "cell_type": "markdown",
   "metadata": {},
   "source": [
    "### Medidas de centralidad y dispersion\n",
    "\n",
    "#### Esperanza matematica ~ media\n",
    "\n",
    " $$\\mu = E[X]=\\sum_{i} x_iP(X=x_i)$$"
   ]
  },
  {
   "cell_type": "code",
   "execution_count": 9,
   "metadata": {
    "collapsed": false
   },
   "outputs": [
    {
     "data": {
      "text/plain": [
       "-4.0"
      ]
     },
     "execution_count": 9,
     "metadata": {},
     "output_type": "execute_result"
    }
   ],
   "source": [
    "# Ejercicio: calcule la esperanza matematica de\n",
    "# la funcion de distribucion del ejemplo de la promocion\n",
    "\n",
    "esp = (-10) * (500.0 / 1000) + (-5) * (300.0 /1000) + 40 * (40.0 / 1000) + 90 * (10.0/1000)\n",
    "\n",
    "esp"
   ]
  },
  {
   "cell_type": "code",
   "execution_count": 10,
   "metadata": {
    "collapsed": true
   },
   "outputs": [],
   "source": [
    "# Ejercicio 8: Calcule la esperanza matemática de una distribución binomial B(5, p).\n",
    "\n",
    "# Podeis hacerlo a mano o a maquina, como prefirais"
   ]
  },
  {
   "cell_type": "markdown",
   "metadata": {},
   "source": [
    "Ejemplo 10. En el juego de la ruleta se hace girar una bola encima de una rueda circular\n",
    "dividida en 37 arcos de la misma longitud, numerados del 0 al 36. Suponemos\n",
    "que la probabilidad de que ocurra un arco es la misma para todos y, por tanto, la\n",
    "bola puede caer en cualquier número del 0 al 36 con una probabilidad de 1/37. Supongamos\n",
    "que jugamos a números impares y que la apuesta se hace a dos por uno,\n",
    "es decir, si aportamos 1 euro y sale impar, recibimos 2 euros (incluida la apuesta), y\n",
    "no cobramos nada si sale par. ¿Qué esperamos ganar si apostamos continuamente a\n",
    "número impares?"
   ]
  },
  {
   "cell_type": "markdown",
   "metadata": {},
   "source": [
    "#### Mediana\n",
    "\n",
    "La mediana de la variable aleatoria X es el valor o valores de $\\{x1, x2, · · ·, xn\\}$ que\n",
    "dejan a izquierda y derecha la misma cantidad de probabilidad."
   ]
  },
  {
   "cell_type": "markdown",
   "metadata": {},
   "source": [
    "#### Varianza\n",
    "\n",
    "$$\\sigma^2=V(X)=\\sum_i( x_i - \\mu)^2P(X=x_i)$$"
   ]
  },
  {
   "cell_type": "code",
   "execution_count": 11,
   "metadata": {
    "collapsed": true
   },
   "outputs": [],
   "source": [
    "# Ejercicio: Calcule la varianza de la variable discreta \n",
    "# del ejemplo de la promocion"
   ]
  },
  {
   "cell_type": "markdown",
   "metadata": {},
   "source": [
    "### Distribucion de Poisson\n",
    "\n",
    "Tambien llamada distribucion de los sucesos raros, es una version extrema de la distribucion binomial cuando $n \\rightarrow \\infty$ y $p \\rightarrow 0$, en la que sustituimos $\\lambda = np$\n",
    "\n",
    "Como referencia, podemos utilizarla cuando $n \\geq 30$ y $p \\leq 0,1$.\n",
    "\n",
    "Su esperanza y su varianza son ambos $\\lambda$"
   ]
  },
  {
   "cell_type": "code",
   "execution_count": 12,
   "metadata": {
    "collapsed": false
   },
   "outputs": [
    {
     "name": "stdout",
     "output_type": "stream",
     "text": [
      "0.180447044315 0.323323583817 0.000859271639598\n"
     ]
    },
    {
     "data": {
      "image/png": "[encoded data removed]",
      "text/plain": [
       "<matplotlib.figure.Figure at 0x7f305eb2e550>"
      ]
     },
     "metadata": {},
     "output_type": "display_data"
    }
   ],
   "source": [
    "# Ejemplo 12. \n",
    "\n",
    "enunciado = \"\"\"La probabilidad de que un individuo tenga una reacción\n",
    "alérgica al inyectarle un suero es p = 0,001. Hallar la probabilidad\n",
    "de que, entre 2000 individuos, tengan reacción alérgica:\n",
    "1. exactamente tres,\n",
    "2. más de dos.\"\"\"\n",
    "\n",
    "from scipy import stats\n",
    "import matplotlib.pyplot as plt\n",
    "%matplotlib inline\n",
    "\n",
    "p_reaccion = 0.001\n",
    "individuos = 2000\n",
    "\n",
    "# como n es >30 y p<0.1, podemos aproximar la distribucion binomial B(n, p)\n",
    "# por una Poisson P(n * p)\n",
    "mi_distribucion = stats.poisson(p_reaccion * individuos)\n",
    "\n",
    "sol_1 = mi_distribucion.pmf(3)\n",
    "sol_2 = 1 - mi_distribucion.cdf(2)\n",
    "\n",
    "print sol_1, sol_2, mi_distribucion.pmf(8)\n",
    "\n",
    "# la ploteamos como antes:\n",
    "xs = range(10)\n",
    "ys = map(mi_distribucion.pmf, xs)\n",
    "\n",
    "_ = plt.bar(xs, ys)"
   ]
  },
  {
   "cell_type": "code",
   "execution_count": 13,
   "metadata": {
    "collapsed": false
   },
   "outputs": [
    {
     "data": {
      "image/png": "[encoded data removed]",
      "text/plain": [
       "<matplotlib.figure.Figure at 0x7f305ea97410>"
      ]
     },
     "metadata": {},
     "output_type": "display_data"
    }
   ],
   "source": [
    "# Vamos a comparar la binomial co\n",
    "\n",
    "mi_binomial = stats.binom(2000, 0.001)\n",
    "mi_poisson = stats.poisson(2)\n",
    "\n",
    "xs = range(10)\n",
    "bs = map(mi_binomial.pmf, xs)\n",
    "ps = map(mi_poisson.pmf, xs)\n",
    "\n",
    "plt.bar(xs, bs, color = 'black')\n",
    "_ = plt.plot(xs, ps, color = 'red')"
   ]
  },
  {
   "cell_type": "code",
   "execution_count": 14,
   "metadata": {
    "collapsed": true
   },
   "outputs": [],
   "source": [
    "# Ejemplo 13.\n",
    "\n",
    "enunciado = \"\"\"El número de erratas por página en un libro se supone que sigue una\n",
    "distribución de Poisson. En una muestra de 95 páginas se han observado las siguientes\n",
    "frecuencias\n",
    "Número de erratas: 0 1 2 3 4 5\n",
    "Frecuencia: 40 30 15 7 2\n",
    "Hallar la probabilidad de que en una página tomada al azar haya alguna errata.\"\"\""
   ]
  },
  {
   "cell_type": "markdown",
   "metadata": {},
   "source": [
    "La distribucion de Poisson tiene la propiedad de que modela el numero de eventos que suceden en un continuo $k$ cuando $\\lambda$ es la *densidad* de eventos, es decir, el numero de eventos por unidad de continuo, siempre y cuando:\n",
    "\n",
    "* El numero de eventos que ocurre en una unidad de tiempo o espacio es constante.\n",
    "\n",
    "* Los eventos ocurren de manera aleatoria e independiente.\n",
    "\n",
    "Por ello es muy util en muchos contextos."
   ]
  },
  {
   "cell_type": "code",
   "execution_count": 15,
   "metadata": {
    "collapsed": false
   },
   "outputs": [
    {
     "name": "stdout",
     "output_type": "stream",
     "text": [
      "0.270670566473\n",
      "0.238103305554\n",
      "0.542070285528\n"
     ]
    }
   ],
   "source": [
    "# Ejercicio 11.\n",
    "\n",
    "enunciado = \"\"\"Una empresa electrónica observa que el número\n",
    "de componentes que fallan en un cierto aparato antes de cumplir\n",
    "100 horas de funcionamiento es una variable aleatoria de Poisson.\n",
    "Si el número medio de estos fallos es ocho,\n",
    "1. ¿cual es la probabilidad de que falle una componente en 25 horas?;\n",
    "2. ¿y de que fallen no más de dos componentes en 50 horas?;\n",
    "3. ¿cual es la probabilidad de que fallen al menos diez en 125 horas?\"\"\"\n",
    "\n",
    "#1 \n",
    "l = 2\n",
    "poisson_25 = stats.poisson(l)\n",
    "print poisson_25.pmf(1)\n",
    "\n",
    "#2 \n",
    "l = 4\n",
    "poisson_50 = stats.poisson(l)\n",
    "print poisson_50.cdf(2)\n",
    "\n",
    "#3 \n",
    "l = 10\n",
    "poisson_125 = stats.poisson(l)\n",
    "print (1 - poisson_125.cdf(9))"
   ]
  },
  {
   "cell_type": "code",
   "execution_count": 16,
   "metadata": {
    "collapsed": false
   },
   "outputs": [],
   "source": [
    "# Ejercicio 13.\n",
    "\n",
    "enunciado = \"\"\"En un libro de 500 páginas se distribuyen aleatoriamente 300 erratas\n",
    "de imprenta. Hallar la probabilidad de que en una página haya:\n",
    "1. exactamente dos erratas,\n",
    "2. dos o mas erratas.\"\"\""
   ]
  }
 ],
 "metadata": {
  "kernelspec": {
   "display_name": "Python 2",
   "language": "python",
   "name": "python2"
  },
  "language_info": {
   "codemirror_mode": {
    "name": "ipython",
    "version": 2
   },
   "file_extension": ".py",
   "mimetype": "text/x-python",
   "name": "python",
   "nbconvert_exporter": "python",
   "pygments_lexer": "ipython2",
   "version": "2.7.13"
  }
 },
 "nbformat": 4,
 "nbformat_minor": 1
}
