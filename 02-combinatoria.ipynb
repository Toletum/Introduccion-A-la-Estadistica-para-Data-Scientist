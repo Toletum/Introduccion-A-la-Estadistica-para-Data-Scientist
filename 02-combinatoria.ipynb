{
 "cells": [
  {
   "cell_type": "markdown",
   "metadata": {
    "collapsed": true,
    "deletable": true,
    "editable": true
   },
   "source": [
    "# Variaciones"
   ]
  },
  {
   "cell_type": "markdown",
   "metadata": {
    "collapsed": true,
    "deletable": true,
    "editable": true
   },
   "source": [
    "## Variaciones ordinarias\n",
    "\n",
    "Se llama variaciones ordinarias de $m$ elementos tomados de\n",
    "$n$ en $n$, $n \\leq m$ a los distintos grupos formados por $n$\n",
    "elementos de forma que:\n",
    "\n",
    "* Importa el orden\n",
    "\n",
    "* No se repiten los elementos en un mismo grupo.\n",
    "\n",
    "De entre los $m$ elementos, el número de grupos de $n$ elementos\n",
    "con las características antes indicadas es:\n",
    "\n",
    "$$V_m^n=m(m-1)(m-2) \\cdot \\cdot \\cdot (m-n+1)$$"
   ]
  },
  {
   "cell_type": "markdown",
   "metadata": {
    "deletable": true,
    "editable": true
   },
   "source": [
    "Ejemplo 3. ¿Cuántos números de tres cifras diferentes se pueden formar con los\n",
    "dígitos: 1, 2, 3, 4 y 5?.\n",
    "\n",
    "$$V_5^3 = 5 \\cdot 4 \\cdot 3 = 60$$"
   ]
  },
  {
   "cell_type": "markdown",
   "metadata": {
    "deletable": true,
    "editable": true
   },
   "source": [
    "Ejemplo 5. ¿De cuantos partidos consta una liguilla formada por cuatro equipos?\n",
    "\n",
    "$$V_4^2 = 4 \\cdot 3 = 12$$"
   ]
  },
  {
   "cell_type": "markdown",
   "metadata": {
    "deletable": true,
    "editable": true
   },
   "source": [
    "## Permutaciones\n",
    "\n",
    "Cuando $n = m$, hablamos de permutaciones:\n",
    "\n",
    "$$V_m^m = P_m = m! = m(m-1)(m-2)\\cdot \\cdot \\cdot 2 \\cdot 1$$"
   ]
  },
  {
   "cell_type": "markdown",
   "metadata": {
    "deletable": true,
    "editable": true
   },
   "source": [
    "Ejemplo 8. ¿De cuántas formas distintas pueden sentarse ocho personas en una fila\n",
    "de butacas?.\n",
    "\n",
    "$$P_8 = 8! = 40320$$"
   ]
  },
  {
   "cell_type": "markdown",
   "metadata": {
    "deletable": true,
    "editable": true
   },
   "source": [
    "Ejemplo 9. Con las letras de la palabra libro, ¿cuántas ordenaciones distintas de\n",
    "cinco letras se pueden hacer que empiecen por vocal y utilizando cada letra solo\n",
    "una vez?\n",
    "\n",
    "$$2 \\cdot P_4 = 2 \\cdot 4! = 48$$"
   ]
  },
  {
   "cell_type": "markdown",
   "metadata": {
    "deletable": true,
    "editable": true
   },
   "source": [
    "Ejercicio 1. Cuatro libros distintos de matemáticas, seis diferentes de física y dos\n",
    "diferentes de química se colocan en un estante. De cuántas formas es posibles ordenarlos\n",
    "si:\n",
    "\n",
    "1. Los libros de cada asignatura deben estar juntos.\n",
    "\n",
    "2. Solamente los libros de matemáticas deben estar juntos.\n",
    "\n",
    "Solucion:\n",
    "\n",
    "1) Permutaciones asignaturas * perm de cada asignatura\n",
    "\n",
    "$$P_3 \\cdot P_4 \\cdot P_6 \\cdot P_2 = 207360$$\n",
    "\n",
    "2) Permutaciones matematicas * permutaciones de todos contando las mates como un libro\n",
    "\n",
    "$$P_4 \\cdot P_9 = 362880$$"
   ]
  },
  {
   "cell_type": "markdown",
   "metadata": {
    "deletable": true,
    "editable": true
   },
   "source": [
    "## Permutaciones circulares\n",
    "\n",
    "El primer elemento que se sitúe en la muestra determina el principio y el final de la muestra\n",
    "\n",
    "$$PC_m = (m - 1)! = (m-1)(m-2)\\cdot \\cdot \\cdot 2 \\cdot 1$$"
   ]
  },
  {
   "cell_type": "markdown",
   "metadata": {
    "deletable": true,
    "editable": true
   },
   "source": [
    "Ejemplo 10. ¿De cuántas formas diferentes pueden sentarse ocho personas alrededor\n",
    "de una mesa redonda?\n",
    "\n",
    "$$P_7 = 5040$$"
   ]
  },
  {
   "cell_type": "markdown",
   "metadata": {
    "deletable": true,
    "editable": true
   },
   "source": [
    "Ejemplo 11. De cuántas formas se pueden sentar siete personas en torno a una mesa\n",
    "redonda si:\n",
    "\n",
    "1. no hay restricciones\n",
    "\n",
    "2. dos personas particulares no pueden sentarse juntas\n",
    "\n",
    "Solucion:\n",
    "\n",
    "1)\n",
    "\n",
    "$$PC_7 = 6! = 720$$\n",
    "\n",
    "2) El numero de combinaciones prohibidas son las permutaciones circulares de 6 elementos (la pareja y los otros 5 comensales) multiplicadas por el numero de permutaciones de la pareja (2; estas dos personas se pueden sentar uno a la izquierda del otro y viceversa)\n",
    "\n",
    "$$PC_7 - PC_2 \\cdot PC_6 = 6! - 2 \\cdot 5! = 720 - 2 \\cdot 120 = 480$$"
   ]
  },
  {
   "cell_type": "markdown",
   "metadata": {
    "deletable": true,
    "editable": true
   },
   "source": [
    "## Variaciones con repeticion\n",
    "\n",
    "Se llaman variaciones con repetición de m elementos tomados de n en n a los distintos\n",
    "grupos formados por n elementos de manera que:\n",
    "\n",
    "* Si importa el orden.\n",
    "\n",
    "* Si se repiten los elementos.\n",
    "\n",
    "Los distintos grupos son\n",
    "\n",
    "$$VR_m^n = m^n$$\n"
   ]
  },
  {
   "cell_type": "markdown",
   "metadata": {
    "deletable": true,
    "editable": true
   },
   "source": [
    "Ejercicio 3. Halle el número de capicúas de 8 cifras. ¿Cuántos hay de 9 cifras?\n",
    "\n",
    "Cualquier combinacion de cuatro cifras, repetida, es un capicua. Habra que descontar aquellas que empiezan por cero. Por tanto:\n",
    "\n",
    "1) $VR_{10}^4 - VR_{10}^3 = 10000 - 1000 = 9000$\n",
    "\n",
    "2) $(VR_{10}^4 - VR_{10}^3) \\cdot 10  = 90000$"
   ]
  },
  {
   "cell_type": "markdown",
   "metadata": {
    "deletable": true,
    "editable": true
   },
   "source": [
    "# Combinaciones\n",
    "\n",
    "Se llama combinaciones de $m$ elementos tomados de $n$ en $n$ $(m \\geq n)$} a los distintos grupos formados por $n$ elementos de forma que:\n",
    "\n",
    "* No importa el orden. \n",
    "* No se repiten los elementos.\n",
    "\n",
    "\n",
    "El número de combinaciones de $m$ elementos tomados de $n$ en $n$ es\n",
    "\n",
    "$$\\boxed{ C_m^n=\\frac{V_m^n}{P_n}=\\frac{m \\cdot (m-1) \\cdot \\cdot \\cdot (m-n+1) }{n\n",
    "!}=\\frac{m!}{n! \\cdot (m-n)!}=\\left(%\n",
    "\\begin{array}{c}\n",
    "  m \\\\\n",
    "  n \\\\\n",
    "\\end{array}%\n",
    "\\right) } $$"
   ]
  },
  {
   "cell_type": "code",
   "execution_count": 1,
   "metadata": {
    "collapsed": false,
    "deletable": true,
    "editable": true
   },
   "outputs": [
    {
     "data": {
      "text/plain": [
       "'En una clase de 35 alumnos se quiere elegir un comit\\xc3\\xa9 formado pos tres\\nalumnos. \\xc2\\xbfCu\\xc3\\xa1ntos comit\\xc3\\xa9s diferentes se pueden formar?.'"
      ]
     },
     "execution_count": 1,
     "metadata": {},
     "output_type": "execute_result"
    }
   ],
   "source": [
    "\"\"\"En una clase de 35 alumnos se quiere elegir un comité formado pos tres\n",
    "alumnos. ¿Cuántos comités diferentes se pueden formar?.\"\"\""
   ]
  },
  {
   "cell_type": "code",
   "execution_count": null,
   "metadata": {
    "collapsed": true,
    "deletable": true,
    "editable": true
   },
   "outputs": [],
   "source": []
  }
 ],
 "metadata": {
  "kernelspec": {
   "display_name": "Python 2",
   "language": "python",
   "name": "python2"
  },
  "language_info": {
   "codemirror_mode": {
    "name": "ipython",
    "version": 2
   },
   "file_extension": ".py",
   "mimetype": "text/x-python",
   "name": "python",
   "nbconvert_exporter": "python",
   "pygments_lexer": "ipython2",
   "version": "2.7.13"
  }
 },
 "nbformat": 4,
 "nbformat_minor": 1
}
