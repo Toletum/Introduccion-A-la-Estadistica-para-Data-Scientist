{
 "cells": [
  {
   "cell_type": "markdown",
   "metadata": {},
   "source": [
    "# Variables aleatorias continuas\n",
    "\n",
    "~~Infinitos sucesos elementales $\\rightarrow$ espacio muestral incontable.~~\n",
    "\n",
    "Me columpie: la definicion correcta es:\n",
    "\n",
    "Una variable aleatoria es continua si su **recorrido** es un conjunto no numerable.\n",
    "\n",
    "El recorrido de una variable es el conjunto de posibles valores que puede tomar. Por tanto, la variable aleatoria \"importe de la reparacion de la maquina de escribir\" del ejercicio 18 es discreta, porque solo puede tomar valores multiplos de 20, aunque el tiempo de reparacion (el espacio muestral) sea continuo.\n"
   ]
  },
  {
   "cell_type": "code",
   "execution_count": 1,
   "metadata": {
    "collapsed": false
   },
   "outputs": [
    {
     "data": {
      "text/plain": [
       "<matplotlib.legend.Legend at 0x7fdf30e8be90>"
      ]
     },
     "execution_count": 1,
     "metadata": {},
     "output_type": "execute_result"
    },
    {
     "data": {
      "image/png": "[encoded data removed]",
      "text/plain": [
       "<matplotlib.figure.Figure at 0x7fdf31208750>"
      ]
     },
     "metadata": {},
     "output_type": "display_data"
    }
   ],
   "source": [
    "# Ejemplo 14.\n",
    "\n",
    "enunciado = \"\"\"Para llegar a un centro comercial hay que tomar un tren en una estación\n",
    "A, llegar a otra estación B y luego andar durante 7 minutos hasta el centro comercial.\n",
    "De la estación A a la B, parte un tren cada 20 minutos, y emplea 13 minutos en\n",
    "hacer el trayecto. Realizamos el siguiente experimento aleatorio: elegir una persona\n",
    "al azar, que va al centro comercial, en el momento que llega a la estación A, y medir\n",
    "el tiempo que tarda en llegar al centro comercial.\n",
    "\n",
    "Que valores va a tomar la variable de este experimento aleatorio?\"\"\"\n",
    "\n",
    "# Voy a plotear aqui la funcion, como hicimos en clase, para que os sirva de mnemonica:\n",
    "from scipy import stats\n",
    "import matplotlib.pyplot as plt\n",
    "import numpy as np\n",
    "%matplotlib inline\n",
    "\n",
    "# por esto no os preocupeis, es para poner \n",
    "\n",
    "fig, ax = plt.subplots(nrows=2)\n",
    "\n",
    "\n",
    "# Le meto 1000 pasos para que el paso entre el anterior a\n",
    "# 20 y el inmediatamente posterior no queden raros.\n",
    "tiempo = stats.uniform(loc=20, scale=20)\n",
    "xs = np.linspace(0,60, 1000)\n",
    "pdf = map(tiempo.pdf, xs)\n",
    "cdf = map(tiempo.cdf, xs)\n",
    "\n",
    "ax[0].plot(xs, pdf, color = 'black')\n",
    "ax[1].plot(xs, cdf, color = 'red')\n",
    "ax[0].legend(['PDF'])\n",
    "ax[1].legend(['CDF'])"
   ]
  },
  {
   "cell_type": "markdown",
   "metadata": {},
   "source": [
    "## Funcion de densidad\n",
    "\n",
    "Sea $(\\Omega, \\mathcal{A}, P)$ un espacio probabilístico y $X:\\Omega \\longmapsto \\mathbb{R}$ una variable aleatoria continua.\n",
    "\n",
    "Asociada a la variable aleatoria $X$, tenemos una  función $f$, llamada función de densidad de la variable aleatoria, definida en $\\mathbb{R}$ verificando:\n",
    "\n",
    "* $f(x) \\geq 0$, ( $f$ es no negativa).\n",
    "* El área comprendida entre la gráfica de $f$ y el eje $x$ es igual a $1$, $\\left( \\int_{-\\infty}^\\infty f(x)dx=1\\right)$.\n",
    "* Dados dos números reales $a \\leq b$, $$ P[a,b]=P(\\{ \\omega \\in\\Omega: \\; a \\leq  X(\\omega) \\leq b \\})=\\int_a^bf(x)dx$$\n"
   ]
  },
  {
   "cell_type": "markdown",
   "metadata": {},
   "source": [
    "**Ejemplo 16.** Consideremos un cierto experimento aleatorio con espacio muestral asociado $\\Omega$. Sea $X: \\Omega \\longmapsto \\mathbb{R}$ un variable aleatoria con función de densidad asociada\n",
    " $$f(x)=\\left\\{ \\begin{array}{lll} k(1+x^2) \\hspace{0.5cm} \\textrm{si } \\; x \\in (0,3) \\\\ 0 \\hspace{1.9cm} \\textrm{si } \\; x \\not\\in (0,3) \\end{array} \\right. $$\n",
    " \n",
    "* Calcular la constante $k$.\n",
    "* Probabilidad de que $X$ esté comprendida entre 1 y 2.\n",
    "* Probabilidad de que $X$ sea menor que 1.\n",
    "* Sabiendo que $X$ es mayor que 1, probabilidad de que sea menor que 2.\n"
   ]
  },
  {
   "cell_type": "markdown",
   "metadata": {},
   "source": [
    "## Funcion de distribucion\n",
    "\n",
    "Sea $(\\Omega, \\mathcal{A}, P)$ un espacio probabilístico y\n",
    "$X:\\Omega \\longmapsto \\mathbb{R}$ una variables aleatoria continua\n",
    "con densidad $f$. Definimos la función de distribución\n",
    "$F_X \\equiv F$ asociada a la variable aleatoria continua $X$ por\n",
    "$$F(x)=P(-\\infty, x]=\\int_{-\\infty}^xf(t)dt$$\n"
   ]
  },
  {
   "cell_type": "markdown",
   "metadata": {},
   "source": [
    "## Medidas de centralidad y dispersion\n",
    "\n",
    "### Media o esperanza\n",
    "\n",
    "Sea $(\\Omega, \\mathcal{A}, P)$ un espacio probabilístico y $X:\\Omega \\longmapsto \\mathbb{R}$ una variable aleatoria continua con densidad $f$. La media o esperanza de la variable aleatoria continua $X$ se define como $$\\mu=E[X]=\\int_{-\\infty}^\\infty xf(x)dx$$\n",
    "\n",
    "### Mediana\n",
    "\n",
    "Sea $(\\Omega, \\mathcal{A},P)$ un espacio probabilístico y $X$ una variable aleatoria continua. La mediana de la variable aleatoria $X$ se define como el valor $M$ que satisface\n",
    "$$F(M)=\\frac{1}{2}$$ donde $F$ es la función de distribución de $X$.\n",
    "\n",
    "### Varianza\n",
    "\n",
    "Sea $(\\Omega, \\mathcal{A},P)$ un espacio probabilístico y $X$ una variable aleatoria continua.  La varianza de la variable aleatoria  $X$ se define como \n",
    "$$\\sigma^2=V(X)=E[(X-E[X])^2]= \\int_{-\\infty}^\\infty (x- \\mu)^2f(x)dx=\\int_{-\\infty}^\\infty x^2f(x)dx -\\mu^2$$"
   ]
  },
  {
   "cell_type": "markdown",
   "metadata": {},
   "source": [
    "### Distribucion uniforme\n",
    "\n",
    "Una variable aleatoria continua tiene una distribución uniforme\n",
    "en un intervalo  $[a,b]$ si su función de densidad viene dada\n",
    "por\n",
    "$$f(x)=\\left\\{ \\begin{array}{ll} \\frac{1}{b-a} \\hspace{0.5cm} x\n",
    "\\in [a,b] \\\\ 0 \\hspace{0.9cm} x \\not\\in [a,b] \\end{array} \\right.\n",
    "$$\n",
    "\n",
    "Esperanza:\n",
    "\n",
    "$$\\frac{b-a}{2}$$\n",
    "\n",
    "Varianza \n",
    "\n",
    "$$\\frac{(b-a)^2}{12}$$"
   ]
  },
  {
   "cell_type": "code",
   "execution_count": 2,
   "metadata": {
    "collapsed": true
   },
   "outputs": [],
   "source": [
    "# Ejercicio 11. \n",
    "\n",
    "enunciado = \"\"\"Sea una variable aleatoria uniformemente distribuida entre 10 y 20.\n",
    "1. Trace la gráfica de la función de distribución.\n",
    "2. Calcule P(X < 15) y P(12 ≤ X ≤ 18).\n",
    "3. Calcule el valor medio esperado de la variable aleatoria y estime la desviación media de la variable aleatoria de su valor esperado.\"\"\""
   ]
  },
  {
   "cell_type": "markdown",
   "metadata": {},
   "source": [
    "### Distribucion exponencial\n",
    "\n",
    "\n",
    "Sea $X$ una variable aleatoria continua, decimos que tiene una\n",
    "distribución exponencial de parámetro $\\lambda >0$  si su\n",
    "función de densidad viene dada por \n",
    "\n",
    "$$f(x)=\\left\\{\n",
    "\\begin{array}{ll} \\lambda e^{-\\lambda x} \\hspace{0.5cm} x \\geq 0\n",
    "\\\\ 0 \\hspace{1.3cm} x<0 \\end{array} \\right. $$\n",
    "\n",
    "Si $x<0$, la función de distribución $F(x)=0$ ya que $f(x)=0$.\n",
    "\n",
    "Si $x \\geq 0$ entonces\n",
    "$$F(x)=\\int_{-\\infty}^x f(t) dt=\\int_{-\\infty}^0 f(t) dt+\\int_{0}^x f(t)\n",
    "=\\int_{a}^x  \\lambda e^{-\\lambda x}  dt=1- e^{-\\lambda x}.$$ por\n",
    "tanto\n",
    "$$F(x)=\\left\\{ \\begin{array}{ll} 0 \\hspace{1.8cm} x<0 \\\\\n",
    "1- e^{-\\lambda x} \\hspace{0.5cm} x \\geq 0\n",
    "\\end{array} \\right. $$\n",
    "\n",
    "Esperanza:\n",
    "\n",
    "$$E[X]=\\frac{1}{\\lambda}$$\n",
    "\n",
    "Varianza:\n",
    "\n",
    "$$V(X)=\\frac{1}{\\lambda^2}$$"
   ]
  },
  {
   "cell_type": "code",
   "execution_count": 3,
   "metadata": {
    "collapsed": false
   },
   "outputs": [
    {
     "name": "stdout",
     "output_type": "stream",
     "text": [
      "0.36526358106\n",
      "0.190331756683\n",
      "50.6568720459\n"
     ]
    },
    {
     "data": {
      "image/png": "[encoded data removed]",
      "text/plain": [
       "<matplotlib.figure.Figure at 0x7fdf6036b790>"
      ]
     },
     "metadata": {},
     "output_type": "display_data"
    }
   ],
   "source": [
    "# Ejercicio 18.\n",
    "\n",
    "enunciado = \"\"\"El tiempo de reparación de unas máquinas de escribir\n",
    "sigue una distribución exponencial, con media de 22 minutos.\n",
    "1. Hallar la probabilidad de que el tiempo de reparación sea menor que 10 minutos.\n",
    "2. El costo de la reparación es de 20 euros por cada media hora o fracción. ¿Cuál\n",
    "es la probabilidad de que una reparación cueste 40 euros?\n",
    "3. Para efectuar una programación, ¿cuánto tiempo se debe asignar a\n",
    "cada reparación para que la probabilidad de que cualquier tiempo de\n",
    "reparación mayor que el tiempo asignado sea solo de 1/10\"\"\"\n",
    "from scipy import stats\n",
    "import numpy as np\n",
    "import matplotlib.pyplot as plt\n",
    "%matplotlib inline\n",
    "\n",
    "# La forma de construir una distribucion exponencial es un \n",
    "# poco distinta de las otras: ver\n",
    "# http://docs.scipy.org/doc/scipy/reference/generated/scipy.stats.expon.html\n",
    "distribucion = stats.expon(scale=22)\n",
    "\n",
    "# construimos las xs y dos conjuntos de ys:\n",
    "xs = np.linspace(0, 100, 200)\n",
    "cdf = map(distribucion.cdf, xs)\n",
    "# Esta la escalamos (multiplicamos por 20) para que quede\n",
    "# a una altura en el grafico que nos permita verla bien:\n",
    "pdf = map(lambda x: 20 * distribucion.pdf(x), xs) ## Scaled!\n",
    "\n",
    "plt.plot(xs, cdf, color='black')\n",
    "plt.plot(xs, pdf, color='red')\n",
    "\n",
    "# 1\n",
    "print distribucion.cdf(10)\n",
    "\n",
    "# 2 Para calcular el valor entre dos puntos. Esto equivaldria al\n",
    "# area bajo la curva de la pdf, es decir, su integral, que es la\n",
    "# cdf. Y para calcular el valor de una integral definida (ie entre\n",
    "# dos puntos) lo que hacemos es restar el valor de la integral \n",
    "# indefinida en el punto final menos el valor en el punto final:\n",
    "# http://www.vitutor.com/integrales/definidas/integral_definida.html\n",
    "print distribucion.cdf(60) - distribucion.cdf(30)\n",
    "\n",
    "# 3 - la ppf es la funcion que come probabilidades y escupe valores;\n",
    "# la inversa de la cdf.\n",
    "print distribucion.ppf(.9)"
   ]
  },
  {
   "cell_type": "code",
   "execution_count": 4,
   "metadata": {
    "collapsed": true
   },
   "outputs": [],
   "source": [
    "# Ejercicio 19. \n",
    "\n",
    "enunciado = \"\"\"Se ha comprobado que el tiempo de vida de cierto tipo \n",
    "de marcapasos sigue una distribución exponencial con media de 16 años.\n",
    "1. ¿Cuál es la probabilidad de que a una persona a la que se le ha\n",
    "implantado este marcapasos se le tenga que implantar otro antes de 20 años?\n",
    "2. Si el marcapasos lleva funcionando correctamente 5 años en un paciente,\n",
    "¿cuál es la probabilidad de que haya que cambiarlo antes de 25 años?\"\"\""
   ]
  },
  {
   "cell_type": "markdown",
   "metadata": {},
   "source": [
    "### Distribucion normal o de Gauss\n",
    "\n",
    "Sea $X$ una variable aleatoria continua, decimos que tiene una\n",
    "distribución normal o de Gauss si la función de densidad es\n",
    "$$f(x)=\\frac{1}{\\sigma \\sqrt{2 \\pi}}e^{-\\frac{(x-\\mu)^2}{2\n",
    "\\sigma^2}},$$ donde $\\mu $ y $\\sigma >0$ son parámetros de la\n",
    "distribución. La gráfica de $f$ es la conocida campana de\n",
    "Gauss con un máximo situado en $x=\\mu$ y dos puntos de\n",
    "inflexión en $x=\\mu \\pm \\sigma$."
   ]
  },
  {
   "cell_type": "markdown",
   "metadata": {},
   "source": [
    "Si la variable aleatoria $X$ sigue una distribución $N(0,1)$, en cada uno de los casos siguientes, determine el valor de $c$ que hace verdadero el enunciado de probabilidad.\n",
    "\n",
    "\n",
    "* $P(|X| \\leq c )=0.95, \\hspace{0.8cm} \\underline{Solución} c=1.96$\n",
    "* $P(|X| \\leq c )=0.99, \\hspace{0.8cm} \\underline{Solución} c=2.57$\n",
    "* $P(X \\leq c )=0.05, \\hspace{0.8cm} \\underline{Solución} c=-1.645$"
   ]
  },
  {
   "cell_type": "code",
   "execution_count": 5,
   "metadata": {
    "collapsed": false
   },
   "outputs": [
    {
     "data": {
      "text/plain": [
       "<matplotlib.legend.Legend at 0x7fdf30c04750>"
      ]
     },
     "execution_count": 5,
     "metadata": {},
     "output_type": "execute_result"
    },
    {
     "data": {
      "image/png": "[encoded data removed]",
      "text/plain": [
       "<matplotlib.figure.Figure at 0x7fdf30c76790>"
      ]
     },
     "metadata": {},
     "output_type": "display_data"
    }
   ],
   "source": [
    "xs = np.linspace(-5, 5, 100)\n",
    "ns = map(stats.norm(0, 1).pdf, xs)\n",
    "cdf = map(stats.norm(0, 1).cdf, xs)\n",
    "\n",
    "fig, ax = plt.subplots(nrows=2)\n",
    "ax[0].plot(xs, ns, color='black')\n",
    "ax[0].legend(['PDF'])\n",
    "ax[1].plot(xs, cdf, color='red')\n",
    "ax[1].legend(['CDF'])"
   ]
  },
  {
   "cell_type": "code",
   "execution_count": 6,
   "metadata": {
    "collapsed": false
   },
   "outputs": [
    {
     "data": {
      "text/plain": [
       "0.30853753872598688"
      ]
     },
     "execution_count": 6,
     "metadata": {},
     "output_type": "execute_result"
    }
   ],
   "source": [
    "# Ejercicio 30. \n",
    "\n",
    "enunciado = \"\"\"El gerente de personal de una gran compañía\n",
    "requiere que los solicitantes a un puesto efectúen cierta \n",
    "prueba y alcancen una calificación de 500. Si las calificaciones\n",
    "de la prueba se distribuyen normalmente con media 485 y desviación\n",
    "30, qué porcentaje de los solicitantes pasará la prueba?\"\"\"\n",
    "\n",
    "minormal = stats.norm(485, 30)\n",
    "\n",
    "1 - minormal.cdf(500)"
   ]
  },
  {
   "cell_type": "markdown",
   "metadata": {},
   "source": [
    "**Ejercicio 31.** La dureza de Rockwell, (método para determinar la resistencia de un\n",
    "material a ser penetrado), de una aleación particular se distribuye normalmente con\n",
    "media de 70 y desviación de 4.\n",
    "1. Si un material se acepta solo si su dureza está entre 62 y 72, cuál es la probabilidad\n",
    "de que un material elegido al azar tenga una dureza aceptable?\n",
    "2. Si el intervalo aceptable de dureza es (70 − c, 70 + c), para qué valores de c el\n",
    "95 % de los materiales tendrían una dureza aceptable?\n",
    "3. En el caso de que el intervalo de dureza aceptable es el dado en el apartado\n",
    "1, y la dureza de cada uno de 9 materiales seleccionados al azar se determina\n",
    "en forma independiente, cuál es el número esperado de materiales aceptables\n",
    "entre los 9 elegidos al azar?"
   ]
  },
  {
   "cell_type": "code",
   "execution_count": 7,
   "metadata": {
    "collapsed": false
   },
   "outputs": [
    {
     "name": "stdout",
     "output_type": "stream",
     "text": [
      "0.668712329326 7.83985593816 6.01841096393\n"
     ]
    },
    {
     "data": {
      "image/png": "[encoded data removed]",
      "text/plain": [
       "<matplotlib.figure.Figure at 0x7fdf30bf9e90>"
      ]
     },
     "metadata": {},
     "output_type": "display_data"
    }
   ],
   "source": [
    "durezas = stats.norm(70,4)\n",
    "\n",
    "sol_1 = durezas.cdf(72) - durezas.cdf(62)\n",
    "\n",
    "# Queremos dejar fuera 2.5% *por cada lado*\n",
    "sol_2 = 70 - durezas.ppf(.025)\n",
    "\n",
    "num_aceptados = stats.binom(9, sol_1)\n",
    "\n",
    "sol_3 = num_aceptados.mean()\n",
    "\n",
    "print sol_1, sol_2, sol_3\n",
    "\n",
    "aceptados = range(10)\n",
    "probs = map(num_aceptados.pmf, aceptados)\n",
    "\n",
    "_ = plt.bar(aceptados, probs)"
   ]
  },
  {
   "cell_type": "markdown",
   "metadata": {},
   "source": [
    "## Teorema central del limite\n",
    "\n",
    "\n",
    "En muchas situaciones prácticas nos vamos a tener sumar *muchas* variables aleatorias. Esto no es fácil, salvo que sepamos qué distribución sigue la suma de las variables aleatorias. El teorema del límite central, nos dice, que en condiciones muy generales, la suma de estas *muchas* variables aleatorias puede ser aproximada por una variable aleatoria que sigue una distribución normal. Para reflejar este hecho, damos el teorema de **Levy-Linderberg**, que es una versión sencilla del teorema del límite central.\n",
    "\n",
    "Sea $(\\Omega, \\mathcal{A}, P)$ un espacio\n",
    "probabilístico y \n",
    "\n",
    "$$X_i: \\Omega \\longmapsto \\mathbb{R}, \\hspace{1cm} i=1,2, \\cdot \\cdot \\cdot,n,$$ \n",
    "\n",
    "$n$ variables aleatorias independientes y satisfaciendo\n",
    "\n",
    "$$E[X_i]=\\mu, \\hspace{0.6cm} V(X_i)=\\sigma^2, \\hspace{1cm} i=1,2, \\cdot \\cdot \\cdot,n.$$\n",
    "\n",
    "Si $n$ es \"grande\"\n",
    "\n",
    "$$X_1+X_2+ \\cdot \\cdot \\cdot +X_n=\\sum_{i=1}^nX_i \\approx N(n \\mu, \\sqrt{n}\\sigma).$$\n",
    "\n"
   ]
  },
  {
   "cell_type": "code",
   "execution_count": 8,
   "metadata": {
    "collapsed": false
   },
   "outputs": [],
   "source": [
    "# Ejercicio 21. \n",
    "\n",
    "# Vamos a calcularlo de dos maneras: aplicando primero\n",
    "# el teorema central del limite y luego lo vamos a hacer\n",
    "# numericamente, para comprobar que se cumple.\n",
    "\n",
    "enunciado = \"\"\"Las ventas diarias de una empresa siguen una\n",
    "distribución uniforme entre 300 y 600 euros. Suponiendo\n",
    "independientes las ventas de los distintos días del año,\n",
    "calcular la probabilidad de que el volumen de ventas anual\n",
    "supere los 138.000 euros, si la empresa trabaja 300 días al año.\"\"\""
   ]
  },
  {
   "cell_type": "markdown",
   "metadata": {},
   "source": [
    "## Ejercicios"
   ]
  },
  {
   "cell_type": "code",
   "execution_count": 9,
   "metadata": {
    "collapsed": true
   },
   "outputs": [],
   "source": [
    "# Ejercicio 23. \n",
    "\n",
    "enunciado = \"\"\"Una prueba consta de 200 preguntas de verdadero o falso, para un\n",
    "alumno que responde al azar.\n",
    "1. ¿Cuál es la probabilidad de que acierte como máximo 50 preguntas?\n",
    "2. ¿Cuál es la probabilidad de que acierte más de 50 y menos de 100 preguntas?\n",
    "3. ¿Cuál es la probabilidad de que acierte más 120 preguntas?\"\"\""
   ]
  },
  {
   "cell_type": "code",
   "execution_count": 10,
   "metadata": {
    "collapsed": true
   },
   "outputs": [],
   "source": [
    "# Ejercicio 32.\n",
    "\n",
    "enunciado = \"\"\"Una máquina automática, dedicada a la fabricación de un tipo especial\n",
    "de tornillo, produce defectuosos a razón de 1 %.\n",
    "1. Si cada 25 tornillos se colocan en un tubo, ¿cuál es la probabilidad de que un\n",
    "tubo no tenga ningún tornillo defectuoso?\n",
    "2. Si cada 10 tubos se colocan en una caja, ¿cuál es la probabilidad de que una\n",
    "caja contenga los 10 tubos con ningún tornillo defectuoso?\"\"\""
   ]
  },
  {
   "cell_type": "code",
   "execution_count": 11,
   "metadata": {
    "collapsed": true
   },
   "outputs": [],
   "source": [
    "# Ejercicio 37. \n",
    "\n",
    "enunciado = \"\"\"En una empresa de productos lácteos hay dos máquinas embotelladoras\n",
    "M1 y M2 que trabajan en paralelo y de forma independiente. El tiempo, en\n",
    "segundos, que tarda cada una de ellas en embotellar una unidad sigue una distribución\n",
    "normal. La máquina M1 sigue una N(2, 0.4) y la máquina M2 una N(1.8, 0.3).\n",
    "Se pide:\n",
    "1. Calcular la probabilidad de que la primera unidad embotellada haya salido de\n",
    "la máquina M2, sabiendo que ha salido en menos de 1.9 segundos.\n",
    "2. Si cada una de las máquinas embotella 20 unidades, ¿cuál es la probabilidad\n",
    "de que las 40 unidades estén embotelladas en menos de 38 segundos?\"\"\""
   ]
  },
  {
   "cell_type": "code",
   "execution_count": 12,
   "metadata": {
    "collapsed": true
   },
   "outputs": [],
   "source": [
    "# Ejercicio 42. \n",
    "\n",
    "enunciado = \"\"\"Un telar experimenta una rotura aproximadamente cada 10 horas. Se\n",
    "está produciendo un estilo particular de tela que requiere 25 horas de trabajo. Si con\n",
    "tres o más roturas el producto no es satisfactorio, encuentre la probabilidad de que\n",
    "la tela se termine con calidad aceptable.\"\"\""
   ]
  },
  {
   "cell_type": "code",
   "execution_count": 13,
   "metadata": {
    "collapsed": true
   },
   "outputs": [],
   "source": [
    "# Ejercicio 43. \n",
    "\n",
    "enunciado = \"\"\"Un libro de matemáticas tiene 200 páginas, en las que pueden haber\n",
    "errores tipográficos en las ecuaciones. Si hay cinco errores dispersos de manera aleatoria\n",
    "entre las 200 hojas, cuál es la probabilidad de que en una muestra aleatoria de\n",
    "50 páginas se encuentre al menos un error? Cómo de be ser el tamaño de la muestra\n",
    "aleatoria para poder asegurar que al menos tres errores se encontrarán con una\n",
    "probabilidad de 90 %?\"\"\""
   ]
  }
 ],
 "metadata": {
  "kernelspec": {
   "display_name": "Python 2",
   "language": "python",
   "name": "python2"
  },
  "language_info": {
   "codemirror_mode": {
    "name": "ipython",
    "version": 2
   },
   "file_extension": ".py",
   "mimetype": "text/x-python",
   "name": "python",
   "nbconvert_exporter": "python",
   "pygments_lexer": "ipython2",
   "version": "2.7.13"
  }
 },
 "nbformat": 4,
 "nbformat_minor": 1
}
